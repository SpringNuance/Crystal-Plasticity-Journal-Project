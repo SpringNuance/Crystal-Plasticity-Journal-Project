{
 "cells": [
  {
   "cell_type": "code",
   "execution_count": 2,
   "id": "77ef84b5",
   "metadata": {
    "scrolled": true
   },
   "outputs": [
    {
     "name": "stdout",
     "output_type": "stream",
     "text": [
      "The current directory is: \n",
      "c:\\Users\\nguye\\Desktop\\Crystal-Plasticity-COE-Project\\manualParams\n"
     ]
    }
   ],
   "source": [
    "import pandas as pd\n",
    "import numpy as np\n",
    "import matplotlib.pyplot as plt\n",
    "from scipy.interpolate import interp1d\n",
    "from sklearn.metrics import mean_squared_error\n",
    "import os\n",
    "os.getcwd()\n",
    "print(\"The current directory is: \")\n",
    "print(os.getcwd())\n",
    "#path_parent = os.path.dirname(os.getcwd())\n",
    "#os.chdir(path_parent)\n",
    "# print(\"Moving up to the parent directory\")\n",
    "# print(os.getcwd())"
   ]
  },
  {
   "cell_type": "code",
   "execution_count": 5,
   "metadata": {},
   "outputs": [
    {
     "name": "stdout",
     "output_type": "stream",
     "text": [
      "2000\n",
      "{'a': 2.719861, 'h0': 283.441721, 'tau0': 122.848924, 'tausat': 531.734367, 'self': 1.557779, 'coplanar': 0.684343, 'collinear': 17.25863, 'orthogonal': 1.848925, 'glissile': 2.957979, 'sessile': 1.304153}\n",
      "2000\n",
      "{'dipole': 8.95949, 'islip': 420.29015, 'omega': 15.3827, 'p': 0.06404, 'q': 1.7944, 'tausol': 401.2006, 'Qs': 7.41331, 'Qc': 1.88009, 'v0': 68.50225, 'rho_e': 8.20411}\n"
     ]
    }
   ],
   "source": [
    "\n",
    "manualParams = np.load(f'RVE_1_40_D/PH/initial_params.npy', allow_pickle=True)\n",
    "print(len(manualParams))\n",
    "print(manualParams[2])\n",
    "\n",
    "\n",
    "manualParams = np.load(f'RVE_1_40_D/DB/initial_params.npy', allow_pickle=True)\n",
    "print(len(manualParams))\n",
    "print(manualParams[2])"
   ]
  },
  {
   "cell_type": "code",
   "execution_count": 8,
   "metadata": {},
   "outputs": [
    {
     "name": "stdout",
     "output_type": "stream",
     "text": [
      "[[7.90e-01 7.50e+01 8.60e-01 1.50e-01 1.80e+00 2.10e+00]\n",
      " [3.20e-01 5.40e+01 7.10e-01 1.30e-01 1.95e+00 1.40e+00]\n",
      " [9.00e-01 9.10e+01 2.70e-01 3.10e-01 1.85e+00 2.50e+00]\n",
      " [8.80e-01 5.80e+01 1.30e-01 1.30e-01 1.65e+00 2.45e+00]\n",
      " [7.30e-01 9.70e+01 5.20e-01 1.40e-01 1.45e+00 1.20e+00]\n",
      " [6.70e-01 5.60e+01 3.30e-01 2.00e-01 2.00e+00 1.70e+00]\n",
      " [3.50e-01 9.10e+01 2.40e-01 3.30e-01 1.60e+00 2.95e+00]\n",
      " [8.20e-01 5.20e+01 7.00e-01 2.00e-01 1.50e+00 2.85e+00]\n",
      " [1.40e-01 1.00e+02 8.50e-01 2.70e-01 1.25e+00 1.05e+00]\n",
      " [2.50e-01 5.70e+01 7.20e-01 5.00e-01 1.90e+00 1.55e+00]\n",
      " [9.50e-01 6.60e+01 5.50e-01 2.30e-01 1.60e+00 1.75e+00]\n",
      " [4.50e-01 6.10e+01 1.60e-01 1.70e-01 2.00e+00 1.60e+00]\n",
      " [4.70e-01 6.40e+01 9.70e-01 4.20e-01 1.55e+00 2.95e+00]\n",
      " [3.40e-01 9.30e+01 8.10e-01 3.70e-01 1.80e+00 2.95e+00]\n",
      " [4.00e-02 9.50e+01 5.30e-01 4.80e-01 1.00e+00 1.90e+00]\n",
      " [9.00e-01 8.70e+01 3.00e-02 2.60e-01 1.05e+00 1.90e+00]\n",
      " [8.70e-01 7.80e+01 6.60e-01 3.90e-01 2.00e+00 2.75e+00]\n",
      " [2.00e-01 7.10e+01 8.60e-01 1.30e-01 2.00e+00 1.00e+00]\n",
      " [4.60e-01 5.20e+01 5.00e-01 1.80e-01 1.15e+00 2.85e+00]\n",
      " [7.30e-01 9.20e+01 3.10e-01 4.20e-01 2.00e+00 1.80e+00]\n",
      " [9.80e-01 6.50e+01 9.60e-01 2.30e-01 1.75e+00 1.95e+00]\n",
      " [7.00e-01 7.70e+01 2.50e-01 1.20e-01 1.65e+00 2.85e+00]\n",
      " [6.00e-01 9.20e+01 6.80e-01 1.90e-01 1.30e+00 1.50e+00]\n",
      " [4.00e-01 5.90e+01 3.60e-01 2.50e-01 1.50e+00 2.70e+00]\n",
      " [6.50e-01 5.60e+01 5.30e-01 3.90e-01 1.70e+00 2.75e+00]\n",
      " [6.00e-02 7.70e+01 1.90e-01 1.70e-01 1.30e+00 2.45e+00]\n",
      " [2.00e-02 5.20e+01 4.40e-01 2.50e-01 1.85e+00 2.10e+00]\n",
      " [5.00e-02 5.50e+01 4.00e-02 1.00e-01 1.50e+00 3.00e+00]\n",
      " [7.70e-01 8.50e+01 7.90e-01 4.30e-01 1.40e+00 1.15e+00]\n",
      " [9.80e-01 9.40e+01 5.20e-01 1.80e-01 1.00e+00 1.65e+00]\n",
      " [9.40e-01 7.90e+01 7.60e-01 4.40e-01 1.00e+00 2.10e+00]\n",
      " [7.00e-01 9.00e+01 6.40e-01 2.80e-01 1.25e+00 1.00e+00]\n",
      " [7.60e-01 5.30e+01 2.40e-01 2.40e-01 2.00e+00 1.35e+00]\n",
      " [4.00e-01 6.30e+01 2.70e-01 2.40e-01 1.45e+00 1.05e+00]\n",
      " [7.50e-01 7.00e+01 1.00e+00 3.40e-01 1.15e+00 2.65e+00]\n",
      " [6.70e-01 9.20e+01 9.20e-01 4.80e-01 1.45e+00 2.80e+00]\n",
      " [2.50e-01 9.90e+01 6.00e-01 3.60e-01 1.30e+00 1.55e+00]\n",
      " [6.00e-02 7.30e+01 9.60e-01 4.10e-01 1.20e+00 2.20e+00]\n",
      " [8.70e-01 6.50e+01 1.70e-01 2.40e-01 1.95e+00 2.30e+00]\n",
      " [7.30e-01 7.30e+01 2.30e-01 2.90e-01 1.05e+00 1.00e+00]\n",
      " [9.00e-02 5.20e+01 2.70e-01 3.60e-01 1.05e+00 1.00e+00]\n",
      " [4.30e-01 5.30e+01 4.10e-01 3.10e-01 1.65e+00 1.50e+00]\n",
      " [8.40e-01 9.70e+01 7.20e-01 1.40e-01 1.30e+00 2.70e+00]\n",
      " [2.00e-02 9.90e+01 5.40e-01 4.70e-01 1.25e+00 2.10e+00]\n",
      " [5.90e-01 9.30e+01 9.50e-01 2.00e-01 2.00e+00 2.80e+00]\n",
      " [4.40e-01 9.10e+01 6.00e-01 3.40e-01 1.65e+00 1.20e+00]\n",
      " [1.80e-01 6.60e+01 9.00e-02 2.90e-01 1.10e+00 1.20e+00]\n",
      " [4.70e-01 7.50e+01 5.10e-01 5.00e-01 1.45e+00 1.65e+00]\n",
      " [1.20e-01 6.10e+01 8.30e-01 3.80e-01 1.25e+00 1.50e+00]\n",
      " [6.10e-01 7.00e+01 9.60e-01 2.90e-01 1.10e+00 2.10e+00]\n",
      " [5.60e-01 7.10e+01 1.90e-01 3.70e-01 1.50e+00 1.50e+00]\n",
      " [7.60e-01 7.30e+01 8.90e-01 1.70e-01 1.95e+00 1.30e+00]\n",
      " [2.00e-02 6.60e+01 6.00e-01 3.30e-01 1.55e+00 1.70e+00]\n",
      " [8.30e-01 6.50e+01 9.40e-01 3.90e-01 1.00e+00 1.30e+00]\n",
      " [5.10e-01 6.60e+01 9.50e-01 2.10e-01 1.70e+00 2.25e+00]\n",
      " [9.80e-01 6.10e+01 7.50e-01 4.50e-01 1.75e+00 2.70e+00]\n",
      " [3.60e-01 9.40e+01 1.00e-02 4.30e-01 1.10e+00 2.30e+00]\n",
      " [4.70e-01 9.50e+01 9.00e-01 3.60e-01 1.55e+00 1.00e+00]\n",
      " [7.50e-01 7.60e+01 3.70e-01 2.80e-01 1.75e+00 1.90e+00]\n",
      " [4.20e-01 8.20e+01 3.00e-02 3.90e-01 1.35e+00 1.20e+00]]\n"
     ]
    }
   ],
   "source": [
    "params1 = pd.read_excel(f\"DB_RVE_14_0_D_converging_params.xlsx\" , skiprows= 8, nrows=30, usecols = \"A:F\").to_numpy()\n",
    "params2 = pd.read_excel(f\"DB_RVE_14_0_D_converging_params.xlsx\" , skiprows= 8, nrows=60, usecols = \"H:M\").to_numpy()\n",
    "params3 = pd.read_excel(f\"DB_RVE_14_0_D_converging_params.xlsx\" , skiprows= 8, nrows=30, usecols = \"O:T\").to_numpy()\n",
    "np.save(f'DB1.npy', params1)\n",
    "np.save(f'DB2.npy', params2)\n",
    "np.save(f'DB3.npy', params3)\n",
    "# To use them, copy these part to convert them to a list of tuples\n",
    "# manualParams1 = np.load(f'DB1.npy', allow_pickle=True)\n",
    "# print(manualParams1)\n",
    "manualParams2 = np.load(f'DB2.npy', allow_pickle=True)\n",
    "print(manualParams2)\n",
    "# manualParams3 = np.load(f'DB3.npy', allow_pickle=True)\n",
    "# print(manualParams3)"
   ]
  },
  {
   "cell_type": "code",
   "execution_count": null,
   "metadata": {},
   "outputs": [],
   "source": []
  },
  {
   "cell_type": "code",
   "execution_count": null,
   "metadata": {},
   "outputs": [],
   "source": [
    "counter = 0\n",
    "combined_initial_flowCurves = {}\n",
    "combined_initial_trueCurves = {}\n",
    "combined_initial_params = []\n",
    "while counter <= 900:\n",
    "    upper = counter + 100\n",
    "    print(f\"{counter}-{upper}\")\n",
    "    initial_flowCurves = np.load(f'notebooks/PH_universal_initial_simulations/{counter}-{upper}/initial_flowCurves.npy', allow_pickle=True)\n",
    "    initial_flowCurves = initial_flowCurves.tolist()\n",
    "    initial_trueCurves = np.load(f'notebooks/PH_universal_initial_simulations/{counter}-{upper}/initial_trueCurves.npy', allow_pickle=True)\n",
    "    initial_trueCurves = initial_trueCurves.tolist()\n",
    "    initial_params = np.load(f'notebooks/PH_universal_initial_simulations/{counter}-{upper}/initial_params.npy', allow_pickle=True)\n",
    "    initial_params = initial_params.tolist()\n",
    "    combined_initial_flowCurves.update(initial_flowCurves)\n",
    "    combined_initial_trueCurves.update(initial_trueCurves)\n",
    "    combined_initial_params += initial_params\n",
    "    counter += 100\n",
    "initial_flowCurves = np.save('notebooks/PH_universal_initial_simulations/combined/initial_flowCurves.npy', combined_initial_flowCurves)\n",
    "initial_trueCurves = np.save('notebooks/PH_universal_initial_simulations/combined/initial_trueCurves.npy', combined_initial_trueCurves)\n",
    "initial_params = np.save('notebooks/PH_universal_initial_simulations/combined/initial_params.npy', combined_initial_params)\n",
    "initial_data = np.load('notebooks/PH_universal_initial_simulations/combined/initial_flowCurves.npy', allow_pickle=True)\n",
    "initial_data = initial_data.tolist()\n",
    "print(len(initial_data))\n",
    "for curve in initial_data.values():\n",
    "    trueStress = curve[1]\n",
    "    truePlasticStrain = curve[0] \n",
    "    plt.plot(truePlasticStrain, trueStress, c='orange', alpha=0.05)\n",
    "plt.plot(truePlasticStrain, trueStress, label = f\"Initial simulations\",c='orange', alpha=0.2)"
   ]
  },
  {
   "cell_type": "code",
   "execution_count": null,
   "metadata": {},
   "outputs": [],
   "source": [
    "counter = 0\n",
    "combined_initial_flowCurves = {}\n",
    "combined_initial_trueCurves = {}\n",
    "combined_initial_params = []\n",
    "while counter <= 950:\n",
    "    upper = counter + 50\n",
    "    print(f\"{counter}-{upper}\")\n",
    "    initial_flowCurves = np.load(f'notebooks/DB_universal_initial_simulations/{counter}-{upper}/initial_flowCurves.npy', allow_pickle=True)\n",
    "    initial_flowCurves = initial_flowCurves.tolist()\n",
    "    initial_trueCurves = np.load(f'notebooks/DB_universal_initial_simulations/{counter}-{upper}/initial_trueCurves.npy', allow_pickle=True)\n",
    "    initial_trueCurves = initial_trueCurves.tolist()\n",
    "    initial_params = np.load(f'notebooks/DB_universal_initial_simulations/{counter}-{upper}/initial_params.npy', allow_pickle=True)\n",
    "    initial_params = initial_params.tolist()\n",
    "    combined_initial_flowCurves.update(initial_flowCurves)\n",
    "    combined_initial_trueCurves.update(initial_trueCurves)\n",
    "    combined_initial_params += initial_params\n",
    "    counter += 50\n",
    "initial_flowCurves = np.save('notebooks/DB_universal_initial_simulations/combined/initial_flowCurves.npy', combined_initial_flowCurves)\n",
    "initial_trueCurves = np.save('notebooks/DB_universal_initial_simulations/combined/initial_trueCurves.npy', combined_initial_trueCurves)\n",
    "initial_params = np.save('notebooks/DB_universal_initial_simulations/combined/initial_params.npy', combined_initial_params)\n",
    "initial_data = np.load('notebooks/DB_universal_initial_simulations/combined/initial_flowCurves.npy', allow_pickle=True)\n",
    "initial_data = initial_data.tolist()\n",
    "print(len(initial_data))\n",
    "for curve in initial_data.values():\n",
    "    trueStress = curve[1]\n",
    "    truePlasticStrain = curve[0] \n",
    "    plt.plot(truePlasticStrain, trueStress, c='orange', alpha=0.1)\n",
    "plt.plot(truePlasticStrain, trueStress, label = f\"Initial simulations\",c='orange', alpha=0.2)"
   ]
  }
 ],
 "metadata": {
  "kernelspec": {
   "display_name": "Python 3.10.5 64-bit",
   "language": "python",
   "name": "python3"
  },
  "language_info": {
   "codemirror_mode": {
    "name": "ipython",
    "version": 3
   },
   "file_extension": ".py",
   "mimetype": "text/x-python",
   "name": "python",
   "nbconvert_exporter": "python",
   "pygments_lexer": "ipython3",
   "version": "3.10.5"
  },
  "orig_nbformat": 4,
  "vscode": {
   "interpreter": {
    "hash": "3bc1a11519d29b3ed6f08646f3ece60640217e649724c6bcfd38e1173c1a1bce"
   }
  }
 },
 "nbformat": 4,
 "nbformat_minor": 2
}
