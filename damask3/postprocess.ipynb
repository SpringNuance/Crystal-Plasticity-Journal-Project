{
 "cells": [
  {
   "cell_type": "code",
   "execution_count": 1,
   "metadata": {},
   "outputs": [
    {
     "name": "stdout",
     "output_type": "stream",
     "text": [
      "The current directory is: \n",
      "c:\\Users\\nguye\\Desktop\\Crystal-Plasticity-COE-Course\\damask3\n",
      "Moving up to the parent directory\n",
      "c:\\Users\\nguye\\Desktop\\Crystal-Plasticity-COE-Course\n"
     ]
    }
   ],
   "source": [
    "import numpy as np\n",
    "import damask\n",
    "\n",
    "import os\n",
    "from math import * \n",
    "os.getcwd()\n",
    "print(\"The current directory is: \")\n",
    "print(os.getcwd())\n",
    "path_parent = os.path.dirname(os.getcwd())\n",
    "os.chdir(path_parent)\n",
    "print(\"Moving up to the parent directory\")\n",
    "print(os.getcwd())\n",
    "damask3_template_path = \"damask3/damask3_template\""
   ]
  },
  {
   "cell_type": "code",
   "execution_count": 2,
   "metadata": {},
   "outputs": [
    {
     "name": "stderr",
     "output_type": "stream",
     "text": [
      " ██████████████████████████████████████████████████ 100% ETA 0:00:00\n",
      " ██████████████████████████████████████████████████ 100% ETA 0:00:00\n",
      " ██████████████████████████████████████████████████ 100% ETA 0:00:00\n",
      " ██████████████████████████████████████████████████ 100% ETA 0:00:00\n"
     ]
    }
   ],
   "source": [
    "import damask\n",
    "result = damask.Result('damask3/RVE_1_40_D_tensionX.hdf5')\n",
    "result.view(increments=0)\n",
    "\n",
    "# https://damask.mpie.de/documentation/examples/add_field_data.html\n",
    "# add deformation gradient rate F and Piola–Kirchhoff stress P\n",
    "\n",
    "result.add_stress_Cauchy()\n",
    "result.add_strain()\n",
    "\n",
    "# Add the Mises equivalent of the Cauchy stress 'sigma'\n",
    "# Add the Mises equivalent of the spatial logarithmic strain 'epsilon_V^0.0(F)'\n",
    "result.add_equivalent_Mises('epsilon_V^0.0(F)')\n",
    "result.add_equivalent_Mises('sigma')\n",
    "\n",
    "\n",
    "\n",
    "# result.add_calculation('np.sum(#rho_mob#,axis=1)','rho_mob_total',\n",
    "#                    '1/m²','total mobile dislocation density')\n",
    "# result.add_calculation('np.sum(#rho_dip#,axis=1)','rho_dip_total',\n",
    "#                    '1/m²','total dislocation dipole density')\n",
    "# result.add_calculation('#rho_dip_total#+#rho_mob_total','rho_total',\n",
    "#                    '1/m²','total dislocation density')\n",
    "\n",
    "# r.export_VTK()\n",
    "r_last = result.view(increments=-1)\n"
   ]
  },
  {
   "cell_type": "code",
   "execution_count": 7,
   "metadata": {},
   "outputs": [
    {
     "name": "stderr",
     "output_type": "stream",
     "text": [
      " ██████████████████████████████████████████████████ 100% ETA 0:00:00\n"
     ]
    },
    {
     "name": "stdout",
     "output_type": "stream",
     "text": [
      "dict_keys(['phase', 'geometry'])\n",
      "64000\n"
     ]
    }
   ],
   "source": [
    "# allData: dict {increments (keys) -> {phase, geometry}\n",
    "# phase -> F, O, P, sigma\n",
    "# geometry -> u_n, u_p\n",
    "allData= result.get()\n",
    "print(allData[\"increment_0\"].keys())\n",
    "print(len(allData[\"increment_0\"]['phase']['F']))"
   ]
  },
  {
   "cell_type": "code",
   "execution_count": 3,
   "metadata": {},
   "outputs": [
    {
     "name": "stderr",
     "output_type": "stream",
     "text": [
      " ██████████████████████████████████████████████████ 100% ETA 0:00:00\n"
     ]
    },
    {
     "data": {
      "text/plain": [
       "array([[[-9.60377401e+01, -2.43699173e+01, -2.84871963e+01],\n",
       "        [-2.43699173e+01,  2.24817588e+04, -4.07313170e+01],\n",
       "        [-2.84871963e+01, -4.07313170e+01,  1.17095039e+02]],\n",
       "\n",
       "       [[-1.84579506e+01, -6.94797559e+00, -1.76377716e+01],\n",
       "        [-6.94797559e+00,  2.23418534e+04,  4.68743415e+01],\n",
       "        [-1.76377716e+01,  4.68743415e+01,  1.82557267e+02]],\n",
       "\n",
       "       [[ 1.36463342e+02,  3.46388263e+01,  4.59297739e+01],\n",
       "        [ 3.46388263e+01,  2.23200908e+04,  1.09813572e+01],\n",
       "        [ 4.59297739e+01,  1.09813572e+01,  6.68973776e+01]],\n",
       "\n",
       "       ...,\n",
       "\n",
       "       [[ 1.08897570e+02, -9.59843087e+01, -2.43822218e+01],\n",
       "        [-9.59843087e+01,  2.22113779e+04, -4.14685188e+01],\n",
       "        [-2.43822218e+01, -4.14685188e+01, -1.49688487e+01]],\n",
       "\n",
       "       [[ 1.38173707e+02,  3.67170276e+01, -6.29074090e+01],\n",
       "        [ 3.67170276e+01,  2.21276401e+04, -1.01243003e+02],\n",
       "        [-6.29074090e+01, -1.01243003e+02, -2.47239496e+01]],\n",
       "\n",
       "       [[ 1.21301406e+02,  1.21683474e+02, -4.46451328e+01],\n",
       "        [ 1.21683474e+02,  2.22425795e+04, -8.60814679e+01],\n",
       "        [-4.46451328e+01, -8.60814679e+01, -1.88382589e+02]]])"
      ]
     },
     "execution_count": 3,
     "metadata": {},
     "output_type": "execute_result"
    }
   ],
   "source": [
    "result.get(\"sigma\")[\"increment_140\"]"
   ]
  },
  {
   "cell_type": "code",
   "execution_count": 8,
   "metadata": {},
   "outputs": [
    {
     "name": "stderr",
     "output_type": "stream",
     "text": [
      " ██████████████████████████████████████████████████ 100% ETA 0:00:00\n",
      " ██████████████████████████████████████████████████ 100% ETA 0:00:00\n"
     ]
    },
    {
     "name": "stdout",
     "output_type": "stream",
     "text": [
      "[0.0, 0.0003552531285854586, 0.0007104586434988387, 0.001065616711262735, 0.0014207274444564169, 0.0017757909691087969, 0.00213080741118896, 0.0024857768966147988, 0.002840699551256885, 0.0031955755009316082, 0.0035504048714112483, 0.005855669090050746, 0.00815900511829162, 0.010460447348135593, 0.012760030089636826, 0.015057787573946933, 0.02189637944863162, 0.02871995781114534, 0.03552941838085543, 0.04232565237370133, 0.0491095471561574, 0.05588198688418357, 0.06264385314035013, 0.06939602557029467, 0.07613938251968856, 0.0828748016728785, 0.0896031606944041, 0.09632533787458518, 0.10304221278040387, 0.10975466691293634, 0.11646358437260061, 0.12316985253354129, 0.12987436272849828, 0.1365780109455533, 0.14328169853820807, 0.1499863329502834, 0.15517824839585384, 0.16037170644325108, 0.16556713746210944, 0.17076497490072295, 0.1759656555958721]\n"
     ]
    },
    {
     "data": {
      "text/plain": [
       "[<matplotlib.lines.Line2D at 0x18bc7ac35e0>]"
      ]
     },
     "execution_count": 8,
     "metadata": {},
     "output_type": "execute_result"
    },
    {
     "data": {
      "image/png": "[encoded data removed]",
      "text/plain": [
       "<Figure size 432x288 with 1 Axes>"
      ]
     },
     "metadata": {
      "needs_background": "light"
     },
     "output_type": "display_data"
    }
   ],
   "source": [
    "import numpy as np\n",
    "import pandas as pd\n",
    "import matplotlib.pyplot as plt\n",
    "\n",
    "result.view(increments=0)#.get()\n",
    "#print(result)\n",
    "sigma = [np.average(s) for s in result.get('sigma').values()]\n",
    "## epsilon = [np.average(e) for e in result.get('epsilon_V^-1(F_p)').values()]\n",
    "epsilon = [np.average(e) for e in result.get('epsilon_V^0.0(F)_vM').values()]\n",
    "print(epsilon)\n",
    "plt.plot(epsilon, sigma)\n"
   ]
  },
  {
   "cell_type": "code",
   "execution_count": 6,
   "metadata": {},
   "outputs": [
    {
     "data": {
      "text/html": [
       "<div>\n",
       "<style scoped>\n",
       "    .dataframe tbody tr th:only-of-type {\n",
       "        vertical-align: middle;\n",
       "    }\n",
       "\n",
       "    .dataframe tbody tr th {\n",
       "        vertical-align: top;\n",
       "    }\n",
       "\n",
       "    .dataframe thead th {\n",
       "        text-align: right;\n",
       "    }\n",
       "</style>\n",
       "<table border=\"1\" class=\"dataframe\">\n",
       "  <thead>\n",
       "    <tr style=\"text-align: right;\">\n",
       "      <th></th>\n",
       "      <th>inc</th>\n",
       "      <th>Mises(Cauchy)</th>\n",
       "      <th>Mises(ln(V))</th>\n",
       "    </tr>\n",
       "  </thead>\n",
       "  <tbody>\n",
       "  </tbody>\n",
       "</table>\n",
       "</div>"
      ],
      "text/plain": [
       "Empty DataFrame\n",
       "Columns: [inc, Mises(Cauchy), Mises(ln(V))]\n",
       "Index: []"
      ]
     },
     "metadata": {},
     "output_type": "display_data"
    }
   ],
   "source": [
    "dict = {'inc':[],\n",
    "    'Mises(Cauchy)':[],\n",
    "    'Mises(ln(V))':[]\n",
    "}\n",
    "  \n",
    "df = pd.DataFrame(dict)\n",
    "  \n",
    "display(df)\n"
   ]
  },
  {
   "cell_type": "code",
   "execution_count": 9,
   "metadata": {},
   "outputs": [
    {
     "name": "stderr",
     "output_type": "stream",
     "text": [
      " ██████████████████████████████████████████████████ 100% ETA 0:00:00\n"
     ]
    }
   ],
   "source": [
    "for increment in result.get().keys():\n",
    "    newIncrement = {'inc': increment, 'Mises(Cauchy)': 90, 'Mises(ln(V))': 90}\n",
    "    df = df.append(newIncrement, ignore_index = True)"
   ]
  },
  {
   "cell_type": "code",
   "execution_count": 10,
   "metadata": {},
   "outputs": [
    {
     "data": {
      "text/html": [
       "<div>\n",
       "<style scoped>\n",
       "    .dataframe tbody tr th:only-of-type {\n",
       "        vertical-align: middle;\n",
       "    }\n",
       "\n",
       "    .dataframe tbody tr th {\n",
       "        vertical-align: top;\n",
       "    }\n",
       "\n",
       "    .dataframe thead th {\n",
       "        text-align: right;\n",
       "    }\n",
       "</style>\n",
       "<table border=\"1\" class=\"dataframe\">\n",
       "  <thead>\n",
       "    <tr style=\"text-align: right;\">\n",
       "      <th></th>\n",
       "      <th>inc</th>\n",
       "      <th>Mises(Cauchy)</th>\n",
       "      <th>Mises(ln(V))</th>\n",
       "    </tr>\n",
       "  </thead>\n",
       "  <tbody>\n",
       "    <tr>\n",
       "      <th>0</th>\n",
       "      <td>increment_0</td>\n",
       "      <td>90.0</td>\n",
       "      <td>90.0</td>\n",
       "    </tr>\n",
       "    <tr>\n",
       "      <th>1</th>\n",
       "      <td>increment_2</td>\n",
       "      <td>90.0</td>\n",
       "      <td>90.0</td>\n",
       "    </tr>\n",
       "    <tr>\n",
       "      <th>2</th>\n",
       "      <td>increment_4</td>\n",
       "      <td>90.0</td>\n",
       "      <td>90.0</td>\n",
       "    </tr>\n",
       "    <tr>\n",
       "      <th>3</th>\n",
       "      <td>increment_6</td>\n",
       "      <td>90.0</td>\n",
       "      <td>90.0</td>\n",
       "    </tr>\n",
       "    <tr>\n",
       "      <th>4</th>\n",
       "      <td>increment_8</td>\n",
       "      <td>90.0</td>\n",
       "      <td>90.0</td>\n",
       "    </tr>\n",
       "    <tr>\n",
       "      <th>5</th>\n",
       "      <td>increment_10</td>\n",
       "      <td>90.0</td>\n",
       "      <td>90.0</td>\n",
       "    </tr>\n",
       "    <tr>\n",
       "      <th>6</th>\n",
       "      <td>increment_12</td>\n",
       "      <td>90.0</td>\n",
       "      <td>90.0</td>\n",
       "    </tr>\n",
       "    <tr>\n",
       "      <th>7</th>\n",
       "      <td>increment_14</td>\n",
       "      <td>90.0</td>\n",
       "      <td>90.0</td>\n",
       "    </tr>\n",
       "    <tr>\n",
       "      <th>8</th>\n",
       "      <td>increment_16</td>\n",
       "      <td>90.0</td>\n",
       "      <td>90.0</td>\n",
       "    </tr>\n",
       "    <tr>\n",
       "      <th>9</th>\n",
       "      <td>increment_18</td>\n",
       "      <td>90.0</td>\n",
       "      <td>90.0</td>\n",
       "    </tr>\n",
       "    <tr>\n",
       "      <th>10</th>\n",
       "      <td>increment_20</td>\n",
       "      <td>90.0</td>\n",
       "      <td>90.0</td>\n",
       "    </tr>\n",
       "    <tr>\n",
       "      <th>11</th>\n",
       "      <td>increment_24</td>\n",
       "      <td>90.0</td>\n",
       "      <td>90.0</td>\n",
       "    </tr>\n",
       "    <tr>\n",
       "      <th>12</th>\n",
       "      <td>increment_28</td>\n",
       "      <td>90.0</td>\n",
       "      <td>90.0</td>\n",
       "    </tr>\n",
       "    <tr>\n",
       "      <th>13</th>\n",
       "      <td>increment_32</td>\n",
       "      <td>90.0</td>\n",
       "      <td>90.0</td>\n",
       "    </tr>\n",
       "    <tr>\n",
       "      <th>14</th>\n",
       "      <td>increment_36</td>\n",
       "      <td>90.0</td>\n",
       "      <td>90.0</td>\n",
       "    </tr>\n",
       "    <tr>\n",
       "      <th>15</th>\n",
       "      <td>increment_40</td>\n",
       "      <td>90.0</td>\n",
       "      <td>90.0</td>\n",
       "    </tr>\n",
       "    <tr>\n",
       "      <th>16</th>\n",
       "      <td>increment_44</td>\n",
       "      <td>90.0</td>\n",
       "      <td>90.0</td>\n",
       "    </tr>\n",
       "    <tr>\n",
       "      <th>17</th>\n",
       "      <td>increment_48</td>\n",
       "      <td>90.0</td>\n",
       "      <td>90.0</td>\n",
       "    </tr>\n",
       "    <tr>\n",
       "      <th>18</th>\n",
       "      <td>increment_52</td>\n",
       "      <td>90.0</td>\n",
       "      <td>90.0</td>\n",
       "    </tr>\n",
       "    <tr>\n",
       "      <th>19</th>\n",
       "      <td>increment_56</td>\n",
       "      <td>90.0</td>\n",
       "      <td>90.0</td>\n",
       "    </tr>\n",
       "    <tr>\n",
       "      <th>20</th>\n",
       "      <td>increment_60</td>\n",
       "      <td>90.0</td>\n",
       "      <td>90.0</td>\n",
       "    </tr>\n",
       "    <tr>\n",
       "      <th>21</th>\n",
       "      <td>increment_64</td>\n",
       "      <td>90.0</td>\n",
       "      <td>90.0</td>\n",
       "    </tr>\n",
       "    <tr>\n",
       "      <th>22</th>\n",
       "      <td>increment_68</td>\n",
       "      <td>90.0</td>\n",
       "      <td>90.0</td>\n",
       "    </tr>\n",
       "    <tr>\n",
       "      <th>23</th>\n",
       "      <td>increment_72</td>\n",
       "      <td>90.0</td>\n",
       "      <td>90.0</td>\n",
       "    </tr>\n",
       "    <tr>\n",
       "      <th>24</th>\n",
       "      <td>increment_76</td>\n",
       "      <td>90.0</td>\n",
       "      <td>90.0</td>\n",
       "    </tr>\n",
       "    <tr>\n",
       "      <th>25</th>\n",
       "      <td>increment_80</td>\n",
       "      <td>90.0</td>\n",
       "      <td>90.0</td>\n",
       "    </tr>\n",
       "    <tr>\n",
       "      <th>26</th>\n",
       "      <td>increment_84</td>\n",
       "      <td>90.0</td>\n",
       "      <td>90.0</td>\n",
       "    </tr>\n",
       "    <tr>\n",
       "      <th>27</th>\n",
       "      <td>increment_88</td>\n",
       "      <td>90.0</td>\n",
       "      <td>90.0</td>\n",
       "    </tr>\n",
       "    <tr>\n",
       "      <th>28</th>\n",
       "      <td>increment_92</td>\n",
       "      <td>90.0</td>\n",
       "      <td>90.0</td>\n",
       "    </tr>\n",
       "    <tr>\n",
       "      <th>29</th>\n",
       "      <td>increment_96</td>\n",
       "      <td>90.0</td>\n",
       "      <td>90.0</td>\n",
       "    </tr>\n",
       "    <tr>\n",
       "      <th>30</th>\n",
       "      <td>increment_100</td>\n",
       "      <td>90.0</td>\n",
       "      <td>90.0</td>\n",
       "    </tr>\n",
       "    <tr>\n",
       "      <th>31</th>\n",
       "      <td>increment_104</td>\n",
       "      <td>90.0</td>\n",
       "      <td>90.0</td>\n",
       "    </tr>\n",
       "    <tr>\n",
       "      <th>32</th>\n",
       "      <td>increment_108</td>\n",
       "      <td>90.0</td>\n",
       "      <td>90.0</td>\n",
       "    </tr>\n",
       "    <tr>\n",
       "      <th>33</th>\n",
       "      <td>increment_112</td>\n",
       "      <td>90.0</td>\n",
       "      <td>90.0</td>\n",
       "    </tr>\n",
       "    <tr>\n",
       "      <th>34</th>\n",
       "      <td>increment_116</td>\n",
       "      <td>90.0</td>\n",
       "      <td>90.0</td>\n",
       "    </tr>\n",
       "    <tr>\n",
       "      <th>35</th>\n",
       "      <td>increment_120</td>\n",
       "      <td>90.0</td>\n",
       "      <td>90.0</td>\n",
       "    </tr>\n",
       "    <tr>\n",
       "      <th>36</th>\n",
       "      <td>increment_124</td>\n",
       "      <td>90.0</td>\n",
       "      <td>90.0</td>\n",
       "    </tr>\n",
       "    <tr>\n",
       "      <th>37</th>\n",
       "      <td>increment_128</td>\n",
       "      <td>90.0</td>\n",
       "      <td>90.0</td>\n",
       "    </tr>\n",
       "    <tr>\n",
       "      <th>38</th>\n",
       "      <td>increment_132</td>\n",
       "      <td>90.0</td>\n",
       "      <td>90.0</td>\n",
       "    </tr>\n",
       "    <tr>\n",
       "      <th>39</th>\n",
       "      <td>increment_136</td>\n",
       "      <td>90.0</td>\n",
       "      <td>90.0</td>\n",
       "    </tr>\n",
       "    <tr>\n",
       "      <th>40</th>\n",
       "      <td>increment_140</td>\n",
       "      <td>90.0</td>\n",
       "      <td>90.0</td>\n",
       "    </tr>\n",
       "  </tbody>\n",
       "</table>\n",
       "</div>"
      ],
      "text/plain": [
       "              inc  Mises(Cauchy)  Mises(ln(V))\n",
       "0     increment_0           90.0          90.0\n",
       "1     increment_2           90.0          90.0\n",
       "2     increment_4           90.0          90.0\n",
       "3     increment_6           90.0          90.0\n",
       "4     increment_8           90.0          90.0\n",
       "5    increment_10           90.0          90.0\n",
       "6    increment_12           90.0          90.0\n",
       "7    increment_14           90.0          90.0\n",
       "8    increment_16           90.0          90.0\n",
       "9    increment_18           90.0          90.0\n",
       "10   increment_20           90.0          90.0\n",
       "11   increment_24           90.0          90.0\n",
       "12   increment_28           90.0          90.0\n",
       "13   increment_32           90.0          90.0\n",
       "14   increment_36           90.0          90.0\n",
       "15   increment_40           90.0          90.0\n",
       "16   increment_44           90.0          90.0\n",
       "17   increment_48           90.0          90.0\n",
       "18   increment_52           90.0          90.0\n",
       "19   increment_56           90.0          90.0\n",
       "20   increment_60           90.0          90.0\n",
       "21   increment_64           90.0          90.0\n",
       "22   increment_68           90.0          90.0\n",
       "23   increment_72           90.0          90.0\n",
       "24   increment_76           90.0          90.0\n",
       "25   increment_80           90.0          90.0\n",
       "26   increment_84           90.0          90.0\n",
       "27   increment_88           90.0          90.0\n",
       "28   increment_92           90.0          90.0\n",
       "29   increment_96           90.0          90.0\n",
       "30  increment_100           90.0          90.0\n",
       "31  increment_104           90.0          90.0\n",
       "32  increment_108           90.0          90.0\n",
       "33  increment_112           90.0          90.0\n",
       "34  increment_116           90.0          90.0\n",
       "35  increment_120           90.0          90.0\n",
       "36  increment_124           90.0          90.0\n",
       "37  increment_128           90.0          90.0\n",
       "38  increment_132           90.0          90.0\n",
       "39  increment_136           90.0          90.0\n",
       "40  increment_140           90.0          90.0"
      ]
     },
     "metadata": {},
     "output_type": "display_data"
    }
   ],
   "source": [
    "display(df)"
   ]
  }
 ],
 "metadata": {
  "kernelspec": {
   "display_name": "Python 3.10.5 64-bit",
   "language": "python",
   "name": "python3"
  },
  "language_info": {
   "codemirror_mode": {
    "name": "ipython",
    "version": 3
   },
   "file_extension": ".py",
   "mimetype": "text/x-python",
   "name": "python",
   "nbconvert_exporter": "python",
   "pygments_lexer": "ipython3",
   "version": "3.10.5"
  },
  "orig_nbformat": 4,
  "vscode": {
   "interpreter": {
    "hash": "3bc1a11519d29b3ed6f08646f3ece60640217e649724c6bcfd38e1173c1a1bce"
   }
  }
 },
 "nbformat": 4,
 "nbformat_minor": 2
}
