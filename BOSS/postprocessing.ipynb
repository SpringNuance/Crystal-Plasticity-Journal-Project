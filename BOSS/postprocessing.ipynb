{
 "cells": [
  {
   "cell_type": "markdown",
   "id": "fd0b0a73",
   "metadata": {},
   "source": [
    "# Postprocessing"
   ]
  },
  {
   "cell_type": "markdown",
   "id": "2cae9451",
   "metadata": {},
   "source": [
    "After an optimization has finished, BOSS has the capability of automatically plotting\n",
    "a selection of the most important results as well as creating corresponding data dump files\n",
    "for user defined postprocessing. This tutorial shows how to invoke BOSS' postprocessing\n",
    "capabilities directly from python. We continue from the example of the optimization\n",
    "of the Forrester function previously demonstrated in the `basic.ipynb` tutorial."
   ]
  },
  {
   "cell_type": "code",
   "execution_count": null,
   "id": "d6fb069d",
   "metadata": {},
   "outputs": [],
   "source": [
    "import numpy as np\n",
    "from boss.bo.bo_main import BOMain"
   ]
  },
  {
   "cell_type": "code",
   "execution_count": null,
   "id": "f14a9ed8",
   "metadata": {},
   "outputs": [],
   "source": [
    "# Import the PPMain object to run postprocessing later.\n",
    "from boss.pp.pp_main import PPMain"
   ]
  },
  {
   "cell_type": "code",
   "execution_count": null,
   "id": "3e77cb48",
   "metadata": {},
   "outputs": [],
   "source": [
    "def func(X):\n",
    "    x = X[0, 0]\n",
    "    return (6 * x - 2) ** 2 * np.sin(12 * x - 4)"
   ]
  },
  {
   "cell_type": "code",
   "execution_count": null,
   "id": "a1c5da0f",
   "metadata": {},
   "outputs": [],
   "source": [
    "bounds = np.array([[0.0, 1.0]])"
   ]
  },
  {
   "cell_type": "code",
   "execution_count": null,
   "id": "ccc638e5",
   "metadata": {},
   "outputs": [],
   "source": [
    "bo = BOMain(func, bounds, yrange=[-1, 1], kernel=\"rbf\", initpts=5, iterpts=15)\n",
    "res = bo.run()"
   ]
  },
  {
   "cell_type": "markdown",
   "id": "a54301e6",
   "metadata": {},
   "source": [
    "After the optimization has finished, we create the main postprocessing object, named `PPMain`,\n",
    "using the `BOResults` object handed to us at the end of the optimization run. We also have\n",
    "the option to again specify any BOSS keywords related to postprocessing (in case we forgot to\n",
    "during the initialization of the `BOMain` object or if we are restarting from a run that did\n",
    "not include post-processing)"
   ]
  },
  {
   "cell_type": "code",
   "execution_count": null,
   "id": "101ab20b",
   "metadata": {},
   "outputs": [],
   "source": [
    "# Specify keywords to include postprocessing plots and data dumps\n",
    "# for both the model and the acquisition function.\n",
    "pp = PPMain(res, pp_models=True, pp_acq_funcs=True)\n",
    "pp.run()"
   ]
  },
  {
   "cell_type": "markdown",
   "id": "8e66b196",
   "metadata": {},
   "source": [
    "After the postprocessing has finished, the resulting plots and data dumps can be found under the\n",
    "newly created `postprocessing` folder. Note that if a folder with this name already exists in the\n",
    "current working directory all of its contents will be overwritten!"
   ]
  }
 ],
 "metadata": {
  "jupytext": {
   "cell_metadata_filter": "-all",
   "main_language": "python",
   "notebook_metadata_filter": "-all"
  },
  "kernelspec": {
   "display_name": "Python 3",
   "language": "python",
   "name": "python3"
  },
  "language_info": {
   "name": "python",
   "version": "3.10.5"
  },
  "vscode": {
   "interpreter": {
    "hash": "3bc1a11519d29b3ed6f08646f3ece60640217e649724c6bcfd38e1173c1a1bce"
   }
  }
 },
 "nbformat": 4,
 "nbformat_minor": 5
}
