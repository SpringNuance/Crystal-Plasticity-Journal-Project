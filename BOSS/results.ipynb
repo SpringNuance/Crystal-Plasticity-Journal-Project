{
 "cells": [
  {
   "cell_type": "markdown",
   "id": "66c4eeec",
   "metadata": {},
   "source": [
    "# Results"
   ]
  },
  {
   "cell_type": "markdown",
   "id": "f9d06a6b",
   "metadata": {},
   "source": [
    "This tutorial showcases how to use the `BOResults` object to get information\n",
    "about a BOSS run after it has concluded. First, we quickly optimize the \n",
    "Forrester function again to get some data to play with."
   ]
  },
  {
   "cell_type": "code",
   "execution_count": null,
   "id": "b7be37d9",
   "metadata": {},
   "outputs": [],
   "source": [
    "import numpy as np\n",
    "from boss.bo.bo_main import BOMain\n",
    "\n",
    "def func(X):\n",
    "    x = X[0, 0]\n",
    "    return (6 * x - 2) ** 2 * np.sin(12 * x - 4)\n",
    "\n",
    "bounds = np.array([[0.0, 1.0]])\n",
    "bo = BOMain(func, bounds, yrange=[-1, 1], kernel=\"rbf\", initpts=5, iterpts=10)\n",
    "res = bo.run()"
   ]
  },
  {
   "cell_type": "markdown",
   "id": "b6d66760",
   "metadata": {},
   "source": [
    "The `BOResults` object gives easy access to a number of important results from the run, \n",
    "by default the following information is stored:\n",
    "* X and Y-data (initial data + acquistions)\n",
    "* Model hyperparameters\n",
    "* Predicted global min, min location and variance"
   ]
  },
  {
   "cell_type": "markdown",
   "id": "a89173b7",
   "metadata": {},
   "source": [
    "The raw results data is stored in a dict, to see what data is available \n",
    "we can look at the keys of this dict"
   ]
  },
  {
   "cell_type": "code",
   "execution_count": null,
   "id": "932a4123",
   "metadata": {},
   "outputs": [],
   "source": [
    "print(res.data.keys())"
   ]
  },
  {
   "cell_type": "markdown",
   "id": "0dbc0ae9",
   "metadata": {},
   "source": [
    "The easiest way of accessing data is `BOResults.select` method, which\n",
    "should be preferred over directly accessing the raw data."
   ]
  },
  {
   "cell_type": "code",
   "execution_count": null,
   "id": "988b3cba",
   "metadata": {},
   "outputs": [],
   "source": [
    "X = res.select('X')\n",
    "Y = res.select('Y')\n",
    "mu_glmin = res.select('mu_glmin', -1)  # global min prediction from the last iteration\n",
    "x_glmin = res.select('x_glmin', -1)  # global min location prediction\n",
    "nu_glmin = res.select('nu_glmin', -1)  # global min variance prediction"
   ]
  },
  {
   "cell_type": "markdown",
   "id": "9d39917f",
   "metadata": {},
   "source": [
    "Here, the second argument to the select method is the iteration from which to take the result.\n",
    "Note that the iteration number wraps around negative numbers like numpy array indices,\n",
    "hence -1 means the final iteration. We furthermore use the convention that the 0th iteration refers to\n",
    "to the initial data and positive iterations refers to actual BO steps. A few more examples:"
   ]
  },
  {
   "cell_type": "code",
   "execution_count": null,
   "id": "3e92921d",
   "metadata": {},
   "outputs": [],
   "source": [
    "X_init = res.select('X', 0)  # Selects all initial X-data\n",
    "params = res.select('model_params', [1, 3])  # Selects model params data from iters 1 and 3"
   ]
  },
  {
   "cell_type": "markdown",
   "id": "cc8c2b16",
   "metadata": {},
   "source": [
    "In addition data selection, `BOResults` provides a number of other useful methods such as:"
   ]
  },
  {
   "cell_type": "code",
   "execution_count": null,
   "id": "d5c43cee",
   "metadata": {},
   "outputs": [],
   "source": [
    "model = res.reconstruct_model(3)  # Reconstructs the GP model from iter 3\n",
    "acqfn = res.reconstruct_acq_func(2)  # Reconstructs the acquisition function from iter 2\n",
    "x_best, y_best = res.get_best_acq(5)  # Gets the best acq from first 5 iters\n",
    "y_range = res.get_est_yrange(4)  # Gets the estimated range of y after iter 4"
   ]
  },
  {
   "cell_type": "markdown",
   "id": "310fada7",
   "metadata": {},
   "source": [
    "Although data access through the select method is recommended, the raw data stored in\n",
    "the BOResults can be accessed getitem-style:"
   ]
  },
  {
   "cell_type": "code",
   "execution_count": null,
   "id": "67f2d82c",
   "metadata": {},
   "outputs": [],
   "source": [
    "X = res['X']   # All X data"
   ]
  },
  {
   "cell_type": "markdown",
   "id": "cdbfd081",
   "metadata": {},
   "source": [
    "Depending on which BOSS settings are used, certain results may not be recorded every iteration.\n",
    "Such results, which includes the model hyperparameters and predicted minimum information, is \n",
    "stored in a special object called a SparseList. This list-like object has an internal dict structure\n",
    "that associates iteration numbers with result values only when the result is actually calculated. \n",
    "To illustrate its usage, we run BOSS again but only predict the global min every other iteration:"
   ]
  },
  {
   "cell_type": "code",
   "execution_count": null,
   "id": "4e5ab095",
   "metadata": {},
   "outputs": [],
   "source": [
    "bo = BOMain(func, bounds, yrange=[-1, 1], kernel=\"rbf\", initpts=5, iterpts=10, minfreq=2)\n",
    "res = bo.run()\n",
    "mu_glmin = res['mu_glmin']\n",
    "print(type(mu_glmin))  # SparseList (not an array)\n",
    "print(mu_glmin[0], mu_glmin[1], mu_glmin[2], mu_glmin[3])  # Glboal min. only available every other iteration"
   ]
  }
 ],
 "metadata": {
  "jupytext": {
   "cell_metadata_filter": "-all",
   "main_language": "python",
   "notebook_metadata_filter": "-all"
  }
 },
 "nbformat": 4,
 "nbformat_minor": 5
}
