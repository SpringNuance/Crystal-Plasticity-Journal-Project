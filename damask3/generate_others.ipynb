{
 "cells": [
  {
   "cell_type": "code",
   "execution_count": 1,
   "metadata": {},
   "outputs": [
    {
     "name": "stdout",
     "output_type": "stream",
     "text": [
      "The current directory is: \n",
      "c:\\Users\\nguye\\Desktop\\Crystal-Plasticity-COE-Course\\damask3\n",
      "Moving up to the parent directory\n",
      "c:\\Users\\nguye\\Desktop\\Crystal-Plasticity-COE-Course\n"
     ]
    }
   ],
   "source": [
    "import numpy as np\n",
    "import damask\n",
    "\n",
    "import os\n",
    "from math import * \n",
    "os.getcwd()\n",
    "print(\"The current directory is: \")\n",
    "print(os.getcwd())\n",
    "path_parent = os.path.dirname(os.getcwd())\n",
    "os.chdir(path_parent)\n",
    "print(\"Moving up to the parent directory\")\n",
    "print(os.getcwd())"
   ]
  },
  {
   "cell_type": "code",
   "execution_count": 3,
   "metadata": {},
   "outputs": [],
   "source": [
    "loading_paths = [\n",
    "    \"PH_linear_uniaxial_RD\",\n",
    "    \"PH_nonlinear_biaxial_RD\",\n",
    "    \"PH_nonlinear_biaxial_TD\",\n",
    "    \"PH_nonlinear_planestrain_RD\",\n",
    "    \"PH_nonlinear_planestrain_TD\",\n",
    "    \"PH_nonlinear_uniaxial_RD\",\n",
    "    \"PH_nonlinear_uniaxial_TD\",\n",
    "    \"DB_linear_uniaxial_RD\",\n",
    "    \"DB_nonlinear_biaxial_RD\",\n",
    "    \"DB_nonlinear_biaxial_TD\",\n",
    "    \"DB_nonlinear_planestrain_RD\",\n",
    "    \"DB_nonlinear_planestrain_TD\",\n",
    "    \"DB_nonlinear_uniaxial_RD\",\n",
    "    \"DB_nonlinear_uniaxial_TD\",\n",
    "]"
   ]
  },
  {
   "cell_type": "code",
   "execution_count": 4,
   "metadata": {},
   "outputs": [],
   "source": [
    "numerics = damask.Config(f\"\"\"\n",
    "grid:\n",
    "  itmin: 2\n",
    "  itmax: 250\n",
    "  maxCutBack: 20\n",
    "  continueCalculation: 0\n",
    "\"\"\")\n",
    "\n",
    "for loading in loading_paths:\n",
    "    numerics.save(f\"damask3/templates/{loading}/numerics.yaml\",default_flow_style = False)"
   ]
  },
  {
   "cell_type": "code",
   "execution_count": 5,
   "metadata": {},
   "outputs": [
    {
     "name": "stderr",
     "output_type": "stream",
     "text": [
      "C:\\Users\\nguye\\AppData\\Local\\Temp\\ipykernel_6696\\3986381874.py:1: DeprecationWarning: Support for ASCII-based geom format will be removed in DAMASK 3.0.0\n",
      "  geometry = damask.Grid.load_ASCII(f'damask3/damask3_template/RVE_1_40_D.geom')\n"
     ]
    }
   ],
   "source": [
    "geometry = damask.Grid.load_ASCII(f'damask3/damask3_template/RVE_1_40_D.geom')\n",
    "\n",
    "for loading in loading_paths:\n",
    "    geometry.save(f\"damask3/templates/{loading}/RVE_1_40_D.vti\")"
   ]
  },
  {
   "cell_type": "code",
   "execution_count": 6,
   "metadata": {},
   "outputs": [],
   "source": [
    "PH_loading_paths = [\n",
    "    \"PH_linear_uniaxial_RD\",\n",
    "    \"PH_nonlinear_biaxial_RD\",\n",
    "    \"PH_nonlinear_biaxial_TD\",\n",
    "    \"PH_nonlinear_planestrain_RD\",\n",
    "    \"PH_nonlinear_planestrain_TD\",\n",
    "    \"PH_nonlinear_uniaxial_RD\",\n",
    "    \"PH_nonlinear_uniaxial_TD\",\n",
    "]\n",
    "\n",
    "material = damask.ConfigMaterial(\"\"\"\n",
    "homogenization:\n",
    "  SX:\n",
    "    N_constituents: 1\n",
    "    mechanical:\n",
    "      type: pass\n",
    "\n",
    "phase:\n",
    "  Al:\n",
    "    lattice: cF\n",
    "    mechanical:\n",
    "      output: [F, P, F_e, F_p, L_p, O]\n",
    "      elastic:\n",
    "        type: Hooke\n",
    "        C_11:                    107e3\n",
    "        C_12:                    52e3\n",
    "        C_44:                    26e3\n",
    "      plastic:\n",
    "        type: phenopowerlaw\n",
    "        Nslip:                   12\n",
    "        gdot0_slip:              1e-3\n",
    "        n_slip:                  20\n",
    "        tau0_slip:               55\n",
    "        tausat_slip:             150\n",
    "        a_slip:                  1.6\n",
    "        h0_slipslip:             600\n",
    "        interaction_slipslip:    1 1 1 1 1 1\n",
    "        atol_resistance:         1\n",
    "\n",
    "\"\"\").material_add(O=damask.Rotation.from_random(shape=geometry.N_materials),\n",
    "                  phase='Al',\n",
    "                  homogenization='SX')\n",
    "                  \n",
    "for loading in PH_loading_paths:\n",
    "    material.save(f\"damask3/templates/{loading}/material.yaml\")\n"
   ]
  },
  {
   "cell_type": "code",
   "execution_count": 7,
   "metadata": {},
   "outputs": [],
   "source": [
    "DB_loading_paths = [\n",
    "    \"DB_linear_uniaxial_RD\",\n",
    "    \"DB_nonlinear_biaxial_RD\",\n",
    "    \"DB_nonlinear_biaxial_TD\",\n",
    "    \"DB_nonlinear_planestrain_RD\",\n",
    "    \"DB_nonlinear_planestrain_TD\",\n",
    "    \"DB_nonlinear_uniaxial_RD\",\n",
    "    \"DB_nonlinear_uniaxial_TD\",\n",
    "]\n",
    "\n",
    "material = damask.ConfigMaterial(\"\"\"\n",
    "homogenization:\n",
    "  SX:\n",
    "    N_constituents: 1\n",
    "    mechanical:\n",
    "      type: pass\n",
    "\n",
    "phase:\n",
    "  Al:\n",
    "    lattice: cF\n",
    "    mechanical:\n",
    "      output: [F, P, O]\n",
    "      elastic:\n",
    "        type: Hooke\n",
    "        C_11:                    107e9\n",
    "        C_12:                    52e9\n",
    "        C_44:                    26e9\n",
    "      plastic:\n",
    "        type: dislotwin\n",
    "        grainsize:                5.25e-6        \n",
    "        SolidSolutionStrength:    55e6      \n",
    "        Nslip:                    12\n",
    "        slipburgers:              25.46e-11        \n",
    "        rhoedgedip0:              1.0            \n",
    "        rhoedge0:                 1.0e12         \n",
    "        v0:                       10e-5          \n",
    "        Qedge:                    0.8361e-19    \n",
    "        p_slip:                   0.8          \n",
    "        q_slip:                   1.5       \n",
    "        CLambdaSlip:              45          \n",
    "        D0:                       6.23e-4     \n",
    "        Qsd:                      1.876e-19    \n",
    "        Catomicvolume:            4.0            \n",
    "        Cedgedipmindistance:      7.0             \n",
    "        atol_rho:                 1.0\n",
    "        interaction_slipslip:     1 1 1 1 1 1  \n",
    "\n",
    "\"\"\").material_add(O=damask.Rotation.from_random(shape=geometry.N_materials),\n",
    "                  phase='Al',\n",
    "                  homogenization='SX')\n",
    "                  \n",
    "for loading in DB_loading_paths:\n",
    "    material.save(f\"damask3/templates/{loading}/material.yaml\")\n"
   ]
  }
 ],
 "metadata": {
  "kernelspec": {
   "display_name": "Python 3",
   "language": "python",
   "name": "python3"
  },
  "language_info": {
   "codemirror_mode": {
    "name": "ipython",
    "version": 3
   },
   "file_extension": ".py",
   "mimetype": "text/x-python",
   "name": "python",
   "nbconvert_exporter": "python",
   "pygments_lexer": "ipython3",
   "version": "3.10.5"
  },
  "orig_nbformat": 4,
  "vscode": {
   "interpreter": {
    "hash": "3bc1a11519d29b3ed6f08646f3ece60640217e649724c6bcfd38e1173c1a1bce"
   }
  }
 },
 "nbformat": 4,
 "nbformat_minor": 2
}
