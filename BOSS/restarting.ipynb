{
 "cells": [
  {
   "cell_type": "markdown",
   "id": "2e59b51f",
   "metadata": {},
   "source": [
    "# Restarting"
   ]
  },
  {
   "cell_type": "markdown",
   "id": "5f35acf8",
   "metadata": {},
   "source": [
    "When BOSS runs, a restart file is produced, by default named `boss.rst`,\n",
    "which allows an optimization to be restarted at a later point if the results\n",
    "were not satisfactory or the original run was somehow aborted. This tutorial\n",
    "demonstrates how to use BOSS restart capabilities directly in a python script.\n",
    "We consider restarting the 2D optimization described in the resuming tutorial.\n",
    "Note that we reserve the word *resume* for continuing an optimization when an\n",
    "Initialized BOMain object already exists, and the word *restart* for when we\n",
    "recreate a BOMain object from disk using restart files."
   ]
  },
  {
   "cell_type": "code",
   "execution_count": null,
   "id": "b8d1d1fe",
   "metadata": {},
   "outputs": [],
   "source": [
    "from boss.bo.bo_main import BOMain\n",
    "from boss.pp.pp_main import PPMain"
   ]
  },
  {
   "cell_type": "code",
   "execution_count": null,
   "id": "0a61b326",
   "metadata": {
    "lines_to_next_cell": 1
   },
   "outputs": [],
   "source": [
    "def func_2d(X):\n",
    "    x1 = X[0, 0]\n",
    "    x2 = X[0, 1]\n",
    "    y = 0.01 * ((x1 ** 2 + x2 - 11) ** 2 + (x1 + x2 ** 2 - 7) ** 2 + 20 * (x1 + x2))\n",
    "    return y"
   ]
  },
  {
   "cell_type": "markdown",
   "id": "2e009098",
   "metadata": {},
   "source": [
    "To recreate a BOMain object we use the `BOMain.from_file()` factory method,\n",
    "when doing so we have the option to change any keywords. Since the run we\n",
    "are restarting from had 30 iterations, we increase the number to 50 to get\n",
    "a more accurate minimum prediction."
   ]
  },
  {
   "cell_type": "code",
   "execution_count": null,
   "id": "35bd029b",
   "metadata": {},
   "outputs": [],
   "source": [
    "bo = BOMain.from_file(\"boss.rst\", f=func_2d, iterpts=50)\n",
    "res = bo.run()\n",
    "pred_min = res.select('mu_glmin', -1)\n",
    "x_pred_min = res.select('x_glmin', -1)\n",
    "print(\"Predicted global min after restarting: {} at x = {}\".format(pred_min, x_pred_min))\n",
    "pp = PPMain(res, pp_models=True, pp_acq_funs=True)\n",
    "pp.run()"
   ]
  },
  {
   "cell_type": "markdown",
   "id": "6ebbeb09",
   "metadata": {},
   "source": [
    "note: During the restart above we had to specify the user function\n",
    "to the `from_file` factory method. If this is omitted, BOSS will try to import the\n",
    "user function function used in the previous run. This saves us the trouble of having\n",
    "to redefine the function, but can lead to unwanted side effects since any statements within\n",
    "the global scope of the previous BOSS python script will automatically run during the import process.\n",
    "This can be avoided by writing BOSS scripts where only function definitions appear in the global scope and\n",
    "any other code is placed under an if-name-main statement."
   ]
  }
 ],
 "metadata": {
  "jupytext": {
   "cell_metadata_filter": "-all",
   "main_language": "python",
   "notebook_metadata_filter": "-all"
  }
 },
 "nbformat": 4,
 "nbformat_minor": 5
}
