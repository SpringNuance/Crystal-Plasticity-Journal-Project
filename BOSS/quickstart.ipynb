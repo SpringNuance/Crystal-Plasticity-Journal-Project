{
 "cells": [
  {
   "cell_type": "markdown",
   "id": "dd737cdb",
   "metadata": {},
   "source": [
    "# Quickstart"
   ]
  },
  {
   "cell_type": "markdown",
   "id": "12efe33a",
   "metadata": {},
   "source": [
    "We illustrate the basic usage by minimizing the Forrester function\n",
    "f(x) = (6x - 2)<sup>2</sup> sin(12x - 4)  on the interval [0, 1]."
   ]
  },
  {
   "cell_type": "code",
   "execution_count": 1,
   "id": "45a15f2c",
   "metadata": {},
   "outputs": [],
   "source": [
    "import numpy as np\n",
    "from boss.bo.bo_main import BOMain\n",
    "from boss.pp.pp_main import PPMain"
   ]
  },
  {
   "cell_type": "markdown",
   "id": "3d346a50",
   "metadata": {
    "lines_to_next_cell": 2
   },
   "source": [
    "The first step to running BOSS typically consists of defining an objective function and\n",
    "the optimization bounds, where the latter should be specified as a hypercube.\n",
    "For the Forrester problem, we define the function and bounds as follows"
   ]
  },
  {
   "cell_type": "code",
   "execution_count": 2,
   "id": "2f4c1040",
   "metadata": {
    "lines_to_next_cell": 1
   },
   "outputs": [],
   "source": [
    "def func(X):\n",
    "    x = X[0, 0]\n",
    "    return (6 * x - 2) ** 2 * np.sin(12 * x - 4)"
   ]
  },
  {
   "cell_type": "code",
   "execution_count": 3,
   "id": "35b657cf",
   "metadata": {},
   "outputs": [],
   "source": [
    "bounds = np.array([[0.0, 1.0]])"
   ]
  },
  {
   "cell_type": "markdown",
   "id": "8450299a",
   "metadata": {},
   "source": [
    "Note that BOSS expects the objective function to take a single 2D numpy array\n",
    "as argument and return a scalar value (this behaviour can be modified).\n",
    "Next, we import BOMain, which will be used to launch and configure the optimization.\n",
    "When creating this object we can supply any number of BOSS *keywords*,\n",
    "these are used to provide essential input information and modify BOSS's behavior.\n",
    "In the following, only a minimal set of keywords are provided for brevity."
   ]
  },
  {
   "cell_type": "code",
   "execution_count": 4,
   "id": "129fbe43",
   "metadata": {},
   "outputs": [],
   "source": [
    "bo = BOMain(func, bounds, yrange=[-1, 1], kernel=\"rbf\", initpts=5, iterpts=10)"
   ]
  },
  {
   "cell_type": "markdown",
   "id": "94cb71da",
   "metadata": {},
   "source": [
    "We are now ready to start the optimization. Once finished, a `BOResults` object\n",
    "that provides easy access to several resulting quantities is returned. In addition,\n",
    "a summary of the optimization and restart data is written to separate files, by default\n",
    "named `boss.out` and `boss.rst`, respectively."
   ]
  },
  {
   "cell_type": "code",
   "execution_count": 5,
   "id": "fe650e3b",
   "metadata": {},
   "outputs": [
    {
     "name": "stdout",
     "output_type": "stream",
     "text": [
      "warning: overwriting file 'boss.out'\n",
      "warning: overwriting file 'boss.rst'\n"
     ]
    }
   ],
   "source": [
    "res = bo.run()"
   ]
  },
  {
   "cell_type": "markdown",
   "id": "f368c633",
   "metadata": {},
   "source": [
    "The `BOResults object gives easy access to the most important results from the run.\n",
    "For instance, we can get the predicted global minimum from the last iteration:"
   ]
  },
  {
   "cell_type": "code",
   "execution_count": 6,
   "id": "d16a99ac",
   "metadata": {},
   "outputs": [
    {
     "name": "stdout",
     "output_type": "stream",
     "text": [
      "Predicted global min:  -6.020737090129377\n"
     ]
    }
   ],
   "source": [
    "print('Predicted global min: ', res.select('mu_glmin', -1)) "
   ]
  },
  {
   "cell_type": "markdown",
   "id": "b7a091ad",
   "metadata": {},
   "source": [
    "A more detailed description of the `BOResults` object can be found in the corresponding Results tutorial.\n",
    "BOSS also supports automatic post-processing, generating useful plots and data dumps in a directory \n",
    "called `postprocessing`."
   ]
  },
  {
   "cell_type": "code",
   "execution_count": null,
   "id": "9e30d215",
   "metadata": {},
   "outputs": [],
   "source": [
    "pp = PPMain(res, pp_models=True, pp_acq_funcs=True)\n",
    "pp.run()"
   ]
  }
 ],
 "metadata": {
  "jupytext": {
   "cell_metadata_filter": "-all",
   "main_language": "python",
   "notebook_metadata_filter": "-all"
  },
  "kernelspec": {
   "display_name": "Python 3",
   "language": "python",
   "name": "python3"
  },
  "language_info": {
   "codemirror_mode": {
    "name": "ipython",
    "version": 3
   },
   "file_extension": ".py",
   "mimetype": "text/x-python",
   "name": "python",
   "nbconvert_exporter": "python",
   "pygments_lexer": "ipython3",
   "version": "3.10.5"
  },
  "vscode": {
   "interpreter": {
    "hash": "3bc1a11519d29b3ed6f08646f3ece60640217e649724c6bcfd38e1173c1a1bce"
   }
  }
 },
 "nbformat": 4,
 "nbformat_minor": 5
}
