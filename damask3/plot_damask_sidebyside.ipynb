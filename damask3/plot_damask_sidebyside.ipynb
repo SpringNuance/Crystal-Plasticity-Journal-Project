{
 "cells": [
  {
   "cell_type": "code",
   "execution_count": 1,
   "metadata": {},
   "outputs": [
    {
     "name": "stdout",
     "output_type": "stream",
     "text": [
      "The current directory is: \n",
      "c:\\Users\\nguye\\Desktop\\Crystal-Plasticity-COE-Journal\\damask3\n",
      "Moving up to the parent directory\n",
      "c:\\Users\\nguye\\Desktop\\Crystal-Plasticity-COE-Journal\n"
     ]
    }
   ],
   "source": [
    "import numpy as np\n",
    "import pandas as pd\n",
    "import matplotlib.pyplot as plt\n",
    "from matplotlib.pyplot import figure\n",
    "import damask\n",
    "\n",
    "import os\n",
    "from math import * \n",
    "os.getcwd()\n",
    "print(\"The current directory is: \")\n",
    "print(os.getcwd())\n",
    "path_parent = os.path.dirname(os.getcwd())\n",
    "os.chdir(path_parent)\n",
    "print(\"Moving up to the parent directory\")\n",
    "print(os.getcwd())\n",
    "damask3_template_path = \"damask3/damask3_template\""
   ]
  },
  {
   "cell_type": "code",
   "execution_count": 5,
   "metadata": {},
   "outputs": [],
   "source": [
    "###################################\n",
    "# Preprocessing nonlinear loading #\n",
    "###################################\n",
    "import math\n",
    "def preprocessNonlinear(trueStrain, trueStress, strainPathX, strainPathY, strainPathZ):\n",
    "    strainPathXprocess = strainPathX.copy()\n",
    "    strainPathYprocess = strainPathY.copy()\n",
    "    strainPathZprocess = strainPathZ.copy()\n",
    "    turningIndices = turningStressPoints(trueStress)\n",
    "    #print(turningIndices)\n",
    "    #unloadingIndex = turningIndices[0]\n",
    "    reloadingIndex = turningIndices[1]\n",
    "    #print(trueStress[reloadingIndex - 1])\n",
    "    #print(trueStress[reloadingIndex])\n",
    "    #print(trueStress[reloadingIndex + 1])\n",
    "    for i in range(reloadingIndex, trueStrain.size):\n",
    "        strainPathXprocess[i] -= strainPathX[reloadingIndex]\n",
    "        strainPathYprocess[i] -= strainPathY[reloadingIndex]\n",
    "        strainPathZprocess[i] -= strainPathZ[reloadingIndex]\n",
    "    #strainReloading =  (2 ** (1/2))/3 * (strainPathXprocess ** 2 + strainPathYprocess ** 2 + strainPathZprocess ** 2) ** (1/2) + trueStrain[reloadingIndex]\n",
    "    strainReloading =  (2/3) ** (1/2) * (strainPathXprocess ** 2 + strainPathYprocess ** 2 + strainPathZprocess ** 2) ** (1/2) + trueStrain[reloadingIndex]\n",
    "    actualStrain = trueStrain.copy()\n",
    "    for i in range(reloadingIndex, trueStrain.size):\n",
    "        actualStrain[i] = strainReloading[i]\n",
    "    return {\"strain\": actualStrain, \"stress\": trueStress}\n",
    "\n",
    "def turningStressPoints(trueStress):\n",
    "    differences = np.diff(trueStress)\n",
    "    index = 1\n",
    "    turningIndices = []\n",
    "    while index < differences.size:\n",
    "        if (differences[index - 1] <= 0 and differences[index] >= 0) or (differences[index - 1] >= 0 and differences[index] <= 0):\n",
    "            turningIndices.append(index)\n",
    "        index += 1\n",
    "    return turningIndices\n",
    "\n",
    "def preprocessDAMASKNonlinear(path, excel=False):\n",
    "    if not excel:\n",
    "        df = pd.read_csv(path, skiprows = 6, delimiter = \"\\t\")\n",
    "    else:\n",
    "        df = pd.read_excel(path, usecols=[\"Mises(Cauchy)\",\"Mises(ln(V))\",\"1_ln(V)\",\"5_ln(V)\",\"9_ln(V)\"], skiprows=6, engine=\"openpyxl\")\n",
    "    trueStrain = df[\"Mises(ln(V))\"].to_numpy().reshape(-1)\n",
    "    trueStress = df[\"Mises(Cauchy)\"].to_numpy().reshape(-1)\n",
    "    strainPathX = df[\"1_ln(V)\"].to_numpy().reshape(-1)\n",
    "    strainPathY = df[\"5_ln(V)\"].to_numpy().reshape(-1)\n",
    "    strainPathZ = df[\"9_ln(V)\"].to_numpy().reshape(-1)\n",
    "    return preprocessNonlinear(trueStrain, trueStress, strainPathX, strainPathY, strainPathZ)\n",
    "\n",
    "################################\n",
    "# Preprocessing linear loading #\n",
    "################################\n",
    "\n",
    "def preprocessLinear(trueStrain, trueStress):\n",
    "    # truePlasticStrain = trueStrain - trueElasticstrain = trueStrain - trueStress/Young's modulus\n",
    "    Young = (trueStress[1] - trueStress[0]) / (trueStrain[1] - trueStrain[0])\n",
    "    truePlasticStrain = trueStrain - trueStress / Young    \n",
    "    return {\"strain\": truePlasticStrain, \"stress\": trueStress}\n",
    "\n",
    "def preprocessDAMASKLinear(path, excel=False):\n",
    "    if not excel:\n",
    "        df = pd.read_csv(path, skiprows = 6, delimiter = \"\\t\")\n",
    "    else:\n",
    "        df = pd.read_excel(path, usecols=[\"Mises(Cauchy)\",\"Mises(ln(V))\"], skiprows=6, engine=\"openpyxl\")\n",
    "    trueStrain = df[\"Mises(ln(V))\"].to_numpy().reshape(-1)\n",
    "    trueStress = df[\"Mises(Cauchy)\"].to_numpy().reshape(-1)\n",
    "    return preprocessLinear(trueStrain, trueStress)   \n",
    "\n",
    "##############################\n",
    "# Obtain the original curves #\n",
    "##############################\n",
    "\n",
    "def preprocessDAMASKTrue(path, excel=False):\n",
    "    if not excel:\n",
    "        df = pd.read_csv(path, skiprows = 6, delimiter = \"\\t\")\n",
    "    else:\n",
    "        df = pd.read_excel(path, usecols=[\"Mises(Cauchy)\",\"Mises(ln(V))\"], skiprows=6, engine=\"openpyxl\")\n",
    "    trueStrain = df[\"Mises(ln(V))\"].to_numpy()\n",
    "    trueStress = df[\"Mises(Cauchy)\"].to_numpy()\n",
    "    return {\"strain\": trueStrain, \"stress\": trueStress}\n",
    "    \n",
    "def preprocessAverage(path, excel=False):\n",
    "    if not excel:\n",
    "        df = pd.read_csv(path, skiprows = 6, delimiter = \"\\t\")\n",
    "    else:\n",
    "        df = pd.read_excel(path, usecols=[\"Mises(Cauchy)\",\"Mises(ln(V))\"], skiprows=6, engine=\"openpyxl\")\n",
    "    columnsStrain = []\n",
    "    columnsStress = []\n",
    "    for i in range (1, 10):\n",
    "        columnsStrain.append(f\"{i}_ln(V)\")\n",
    "        columnsStress.append(f\"{i}_Cauchy\")\n",
    "        \n",
    "    trueStrain = df[columnsStrain].mean(axis=1).to_numpy()\n",
    "    trueStress = df[columnsStress].mean(axis=1).to_numpy()\n",
    "    return {\"strain\": trueStrain, \"stress\": trueStress}\n",
    "\n",
    "def Mises(what,tensor):\n",
    "    \n",
    "  dev = tensor - np.trace(tensor)/3.0*np.eye(3)\n",
    "  symdev = 0.5*(dev+dev.T)\n",
    "  return math.sqrt(np.sum(symdev*symdev.T)*\n",
    "        {\n",
    "         'stress': 3.0/2.0,\n",
    "         'strain': 2.0/3.0,\n",
    "         }[what.lower()])\n"
   ]
  },
  {
   "cell_type": "code",
   "execution_count": null,
   "metadata": {},
   "outputs": [],
   "source": [
    "loading = \"linear_uniaxial_RD\""
   ]
  },
  {
   "cell_type": "code",
   "execution_count": 8,
   "metadata": {},
   "outputs": [
    {
     "name": "stderr",
     "output_type": "stream",
     "text": [
      " ██████████████████████████████████████████████████ 100% ETA 0:00:00\n",
      " ██████████████████████████████████████████████████ 100% ETA 0:00:00\n",
      " ██████████████████████████████████████████████████ 100% ETA 0:00:00\n",
      " ██████████████████████████████████████████████████ 100% ETA 0:00:00\n"
     ]
    },
    {
     "data": {
      "text/plain": [
       "\u001b[2mCreated by /projappl/project_2004956/damask3/grid_solver/bin/DAMASK_grid v3.0.0-alpha6\n",
       "        on 2023-02-13 00:26:13+0200\n",
       " executing \"/projappl/project_2004956/damask3/grid_solver/bin/DAMASK_grid --load tensionX.yaml --geom RVE_1_40_D.vti\"\u001b[0m\n",
       "\n",
       "increment_0 (0.0 s)\n",
       "  phase\n",
       "    Aluminum\n",
       "      mechanical\n",
       "        F / 1: deformation gradient\n",
       "        F_e / 1: elastic deformation gradient\n",
       "        F_p / 1: plastic deformation gradient\n",
       "        L_p / 1/s: plastic velocity gradient\n",
       "        O / q_0 (q_1 q_2 q_3): crystal orientation as quaternion\n",
       "        P / Pa: first Piola-Kirchhoff stress\n",
       "        epsilon_V^0.0(F) / 1: strain tensor of F (deformation gradient)\n",
       "        epsilon_V^0.0(F)_vM / 1: Mises equivalent strain of epsilon_V^0.0(F) (strain tensor of F (deformation gradient))\n",
       "        gamma_sl / 1: plastic shear\n",
       "        sigma / Pa: Cauchy stress calculated from P (first Piola-Kirchhoff stress) and F (deformation gradient)\n",
       "        sigma_vM / Pa: Mises equivalent stress of sigma (Cauchy stress calculated from P (first Piola-Kirchhoff stress) and F (deformation gradient))\n",
       "        xi_sl / Pa: resistance against plastic slip\n",
       "  homogenization\n",
       "    SX\n",
       "      mechanical"
      ]
     },
     "execution_count": 8,
     "metadata": {},
     "output_type": "execute_result"
    }
   ],
   "source": [
    "resultPH = damask.Result(f'damask3/sidebyside/PH_{loading}/RVE_1_40_D_tensionX.hdf5')\n",
    "\n",
    "# https://damask.mpie.de/documentation/examples/add_field_data.html\n",
    "# add deformation gradient rate F and Piola–Kirchhoff stress P\n",
    "\n",
    "resultPH.add_stress_Cauchy()\n",
    "resultPH.add_strain()\n",
    "\n",
    "\n",
    "# Add the Mises equivalent of the Cauchy stress 'sigma'\n",
    "# Add the Mises equivalent of the spatial logarithmic strain 'epsilon_V^0.0(F)'\n",
    "resultPH.add_equivalent_Mises('sigma')\n",
    "resultPH.add_equivalent_Mises('epsilon_V^0.0(F)')\n",
    "\n",
    "resultPH.view(increments=0)"
   ]
  },
  {
   "attachments": {},
   "cell_type": "markdown",
   "metadata": {},
   "source": [
    "### Linear uniaxial RD"
   ]
  },
  {
   "cell_type": "code",
   "execution_count": 9,
   "metadata": {},
   "outputs": [
    {
     "name": "stderr",
     "output_type": "stream",
     "text": [
      " ██████████████████████████████████████████████████ 100% ETA 0:00:00\n",
      " ██████████████████████████████████████████████████ 100% ETA 0:00:00\n"
     ]
    },
    {
     "data": {
      "text/plain": [
       "<matplotlib.legend.Legend at 0x1bc94c3ad40>"
      ]
     },
     "execution_count": 9,
     "metadata": {},
     "output_type": "execute_result"
    },
    {
     "data": {
      "image/png": "[encoded data removed]",
      "text/plain": [
       "<Figure size 480x320 with 1 Axes>"
      ]
     },
     "metadata": {
      "needs_background": "light"
     },
     "output_type": "display_data"
    }
   ],
   "source": [
    "trueStress3 = np.array([np.average(s) for s in resultPH.get('sigma_vM').values()])\n",
    "trueStress3 *= 1e-6\n",
    "trueStrain3 = np.array([np.average(e) for e in resultPH.get(\"epsilon_V^0.0(F)_vM\").values()])\n",
    "##trueStrain3 = np.array([np.average(e) for e in result.get('epsilon_V^0.0(F)_vM').values()])\n",
    "#print(result.get(\"epsilon_V^0.0(F)\").values())\n",
    "#print(trueStrain3)\n",
    "path = f\"damask3/sidebyside/PH_{loading}/RVE_1_40_D_tensionX.txt\"\n",
    "\n",
    "if loading != \"linear_uniaxial_RD\":\n",
    "    trueStrain2, trueStress2 = preprocessDAMASKTrue(path).values()\n",
    "    #trueStrain2, trueStress2 = preprocessAverage(path).values()\n",
    "    trueStress2 *= 1e-6\n",
    "    #processStrain, processStress = preprocessDAMASKNonlinear(path).values()\n",
    "    #processStress *= 1e-6\n",
    "else:\n",
    "    trueStrain2, trueStress2 = preprocessDAMASKTrue(path).values()\n",
    "    #trueStrain2, trueStress2 = preprocessAverage(path).values()\n",
    "    trueStress2 *= 1e-6\n",
    "    #processStrain, processStress = preprocessDAMASKLinear(path).values()\n",
    "    #processStress *= 1e-6\n",
    "\n",
    "size = 15\n",
    "\n",
    "figure(figsize=(6, 4), dpi=80)\n",
    "plt.plot(trueStrain2, trueStress2, alpha = 0.5, label = f\"True curve DAMASK2\", marker='.', markersize=5)\n",
    "plt.plot(trueStrain3, trueStress3, alpha = 0.5, label = f\"True curve DAMASK3\", marker='.', markersize=5)\n",
    "\n",
    "plt.title(f\"{loading} | PH\", size=size + 4)\n",
    "plt.rc('xtick', labelsize=size)    \n",
    "plt.rc('ytick', labelsize=size)  \n",
    "plt.xticks(fontsize=size)\n",
    "plt.yticks(fontsize=size)\n",
    "plt.xticks([0, 0.05, 0.1, 0.15, 0.2, 0.25])\n",
    "plt.ylabel('Stress, MPa', size=size)\n",
    "plt.xlabel(\"Strain, -\", size=size)\n",
    "plt.legend(loc=4, fontsize=size - 2)"
   ]
  },
  {
   "cell_type": "code",
   "execution_count": 6,
   "metadata": {},
   "outputs": [
    {
     "name": "stderr",
     "output_type": "stream",
     "text": [
      " ██████████████████████████████████████████████████ 100% ETA 0:00:00\n",
      " ██████████████████████████████████████████████████ 100% ETA 0:00:00\n",
      " ██████████████████████████████████████████████████ 100% ETA 0:00:00\n",
      " ██████████████████████████████████████████████████ 100% ETA 0:00:00\n"
     ]
    }
   ],
   "source": [
    "loading = \"linear_uniaxial_RD\"\n",
    "\n",
    "resultDB = damask.Result(f'damask3/sidebyside/DB_{loading}/RVE_1_40_D_tensionX.hdf5')\n",
    "\n",
    "# https://damask.mpie.de/documentation/examples/add_field_data.html\n",
    "# add deformation gradient rate F and Piola–Kirchhoff stress P\n",
    "\n",
    "resultDB.add_stress_Cauchy()\n",
    "resultDB.add_strain()\n",
    "\n",
    "# Add the Mises equivalent of the Cauchy stress 'sigma'\n",
    "# Add the Mises equivalent of the spatial logarithmic strain 'epsilon_V^0.0(F)'\n",
    "resultDB.add_equivalent_Mises('epsilon_V^0.0(F)')\n",
    "resultDB.add_equivalent_Mises('sigma')"
   ]
  },
  {
   "cell_type": "code",
   "execution_count": 7,
   "metadata": {},
   "outputs": [
    {
     "name": "stderr",
     "output_type": "stream",
     "text": [
      " ██████████████████████████████████████████████████ 100% ETA 0:00:00\n",
      " ██████████████████████████████████████████████████ 100% ETA 0:00:00\n"
     ]
    },
    {
     "data": {
      "text/plain": [
       "<matplotlib.legend.Legend at 0x1bc8f065210>"
      ]
     },
     "execution_count": 7,
     "metadata": {},
     "output_type": "execute_result"
    },
    {
     "data": {
      "image/png": "[encoded data removed]",
      "text/plain": [
       "<Figure size 480x320 with 1 Axes>"
      ]
     },
     "metadata": {
      "needs_background": "light"
     },
     "output_type": "display_data"
    }
   ],
   "source": [
    "size = 15\n",
    "\n",
    "yieldingPoint = 0.006\n",
    "\n",
    "\n",
    "trueStress3 = np.array([np.average(s) for s in resultDB.get('sigma_vM').values()])\n",
    "trueStress3 *= 1e-6\n",
    "trueStrain3 = np.array([np.average(e) for e in resultDB.get(\"epsilon_V^0.0(F)_vM\").values()])\n",
    "\n",
    "path = f\"damask3/sidebyside/DB_{loading}/RVE_1_40_D_tensionX.txt\"\n",
    "\n",
    "if loading != \"linear_uniaxial_RD\":\n",
    "    trueStrain2, trueStress2 = preprocessDAMASKTrue(path).values()\n",
    "    #trueStrain2, trueStress2 = preprocessAverage(path).values()\n",
    "    trueStress2 *= 1e-6\n",
    "    #processStrain, processStress = preprocessDAMASKNonlinear(path).values()\n",
    "    #processStress *= 1e-6\n",
    "else:\n",
    "    trueStrain2, trueStress2 = preprocessDAMASKTrue(path).values()\n",
    "    #trueStrain2, trueStress2 = preprocessAverage(path).values()\n",
    "    trueStress2 *= 1e-6\n",
    "    #processStrain, processStress = preprocessDAMASKLinear(path).values()\n",
    "    #processStress *= 1e-6\n",
    "\n",
    "\n",
    "figure(figsize=(6, 4), dpi=80)\n",
    "plt.plot(trueStrain2, trueStress2, alpha = 0.5, label = f\"True curve DAMASK2\", marker='.', markersize=5)\n",
    "plt.plot(trueStrain3, trueStress3, alpha = 0.5, label = f\"True curve DAMASK3\", marker='.', markersize=5)\n",
    "plt.title(f\"{loading} | DB\", size=size + 4)\n",
    "plt.rc('xtick', labelsize=size)    \n",
    "plt.rc('ytick', labelsize=size)  \n",
    "plt.xticks(fontsize=size)\n",
    "plt.yticks(fontsize=size)\n",
    "plt.xticks([0, 0.05, 0.1, 0.15, 0.2, 0.25])\n",
    "plt.ylabel('Stress, MPa', size=size)\n",
    "plt.xlabel(\"Strain, -\", size=size)\n",
    "plt.legend(loc=4, fontsize=size - 2)"
   ]
  }
 ],
 "metadata": {
  "kernelspec": {
   "display_name": "Python 3",
   "language": "python",
   "name": "python3"
  },
  "language_info": {
   "codemirror_mode": {
    "name": "ipython",
    "version": 3
   },
   "file_extension": ".py",
   "mimetype": "text/x-python",
   "name": "python",
   "nbconvert_exporter": "python",
   "pygments_lexer": "ipython3",
   "version": "3.10.5"
  },
  "orig_nbformat": 4,
  "vscode": {
   "interpreter": {
    "hash": "3bc1a11519d29b3ed6f08646f3ece60640217e649724c6bcfd38e1173c1a1bce"
   }
  }
 },
 "nbformat": 4,
 "nbformat_minor": 2
}
