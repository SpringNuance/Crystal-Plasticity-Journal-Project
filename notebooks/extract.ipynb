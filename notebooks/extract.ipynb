{
 "cells": [
  {
   "cell_type": "code",
   "execution_count": 2,
   "metadata": {},
   "outputs": [
    {
     "name": "stdout",
     "output_type": "stream",
     "text": [
      "The current directory is: \n",
      "c:\\Users\\nguye\\Desktop\\Crystal-Plasticity-Journal-Project\\notebooks\n",
      "Moving up to the parent directory\n",
      "c:\\Users\\nguye\\Desktop\\Crystal-Plasticity-Journal-Project\n"
     ]
    }
   ],
   "source": [
    "import pandas as pd\n",
    "import numpy as np\n",
    "from sklearn.metrics import r2_score\n",
    "import matplotlib.pyplot as plt\n",
    "from matplotlib.pyplot import figure\n",
    "\n",
    "import os\n",
    "from math import * \n",
    "os.getcwd()\n",
    "print(\"The current directory is: \")\n",
    "print(os.getcwd())\n",
    "path_parent = os.path.dirname(os.getcwd())\n",
    "os.chdir(path_parent)\n",
    "print(\"Moving up to the parent directory\")\n",
    "print(os.getcwd())"
   ]
  },
  {
   "cell_type": "code",
   "execution_count": 3,
   "metadata": {},
   "outputs": [],
   "source": [
    "material = \"RVE_1_40_D\"\n",
    "CPLaw = \"PH\"\n",
    "\n",
    "loadings = [\"linear_uniaxial_RD\", \n",
    "            \"linear_uniaxial_TD\",\n",
    "            \"nonlinear_biaxial_RD\", \n",
    "            \"nonlinear_biaxial_TD\",     \n",
    "            \"nonlinear_planestrain_RD\",     \n",
    "            \"nonlinear_planestrain_TD\",     \n",
    "            \"nonlinear_uniaxial_RD\", \n",
    "            \"nonlinear_uniaxial_TD\"]\n",
    "# initial_processCurves = np.load(f'results/{material}/{CPLaw}/universal/initial_processCurves.npy', allow_pickle=True).tolist()\n",
    "# initial_trueCurves = np.load(f'results/{material}/{CPLaw}/universal/initial_trueCurves.npy', allow_pickle=True).tolist()\n",
    "    "
   ]
  },
  {
   "cell_type": "code",
   "execution_count": 7,
   "metadata": {},
   "outputs": [
    {
     "name": "stdout",
     "output_type": "stream",
     "text": [
      "{(('dipmin', 1), ('omega', 2)): 'value1', (('dipmin', 3), ('omega', 4)): 'value2', (('dipmin', 5), ('omega', 6)): 'value3'}\n"
     ]
    }
   ],
   "source": [
    "# Example dictionary with double tuples as keys\n",
    "my_dict = {\n",
    "    ((\"dipole\", 1), (\"omega\", 2)): \"value1\",\n",
    "    ((\"dipole\", 3), (\"omega\", 4)): \"value2\",\n",
    "    ((\"dipole\", 5), (\"omega\", 6)): \"value3\"\n",
    "}\n",
    "\n",
    "# Create a new dictionary with modified keys\n",
    "new_dict = {(((\"dipmin\", key[0][1]), key[1])): value for key, value in my_dict.items() if key[0][0] == \"dipole\"}\n",
    "\n",
    "# Print the new dictionary\n",
    "print(new_dict)"
   ]
  },
  {
   "cell_type": "code",
   "execution_count": 11,
   "metadata": {},
   "outputs": [],
   "source": [
    "for loading in loadings:\n",
    "    initial_processCurves = np.load(f'results/{material}/{CPLaw}/universal/{loading}/initial_processCurves.npy', allow_pickle=True).tolist()\n",
    "    # Create a new dictionary with modified keys\n",
    "    initial_processCurves_new_dict = {(tuple(((\"dipmin\", key[i][1]) if key[i][0] == \"dipole\" else key[i] for i in range(len(key))))): value for key, value in initial_processCurves.items()}\n",
    "\n",
    "    initial_trueCurves = np.load(f'results/{material}/{CPLaw}/universal/{loading}/initial_trueCurves.npy', allow_pickle=True).tolist()\n",
    "    initial_trueCurves_new_dict = {(tuple(((\"dipmin\", key[i][1]) if key[i][0] == \"dipole\" else key[i] for i in range(len(key))))): value for key, value in initial_trueCurves.items()}\n",
    "\n",
    "    np.save(f'results/{material}/{CPLaw}/universal/{loading}/initial_trueCurves.npy', initial_trueCurves_new_dict)\n",
    "    np.save(f'results/{material}/{CPLaw}/universal/{loading}/initial_processCurves.npy', initial_processCurves_new_dict)"
   ]
  },
  {
   "cell_type": "code",
   "execution_count": 5,
   "metadata": {},
   "outputs": [
    {
     "name": "stdout",
     "output_type": "stream",
     "text": [
      "All elements are equal\n"
     ]
    }
   ],
   "source": [
    "arraylist= []\n",
    "for loading in loadings:\n",
    "    initial_processCurves = np.load(f'results/{material}/{CPLaw}/universal/{loading}/initial_processCurves.npy', allow_pickle=True).tolist()\n",
    "    # Create a new dictionary with modified keys\n",
    "    #print(initial_processCurves)\n",
    "    initial_trueCurves = np.load(f'results/{material}/{CPLaw}/universal/{loading}/initial_trueCurves.npy', allow_pickle=True).tolist()\n",
    "    arraylist.append(list(initial_trueCurves.keys()))\n",
    "    #print([dict(tuples) for tuples in list(initial_trueCurves.keys())])\n",
    "# np.save(\"initial_params\", [dict(tuples) for tuples in list(initial_trueCurves.keys())])\n",
    "if all(element == arraylist[0] for element in arraylist):\n",
    "    print(\"All elements are equal\")\n",
    "else:\n",
    "    print(\"Not all elements are equal\")\n"
   ]
  },
  {
   "cell_type": "code",
   "execution_count": 16,
   "metadata": {},
   "outputs": [
    {
     "name": "stdout",
     "output_type": "stream",
     "text": [
      "{(('tau0', 184370685), ('a', 4.030016), ('h0', 1919209605), ('tausat', 664667834), ('self', 1.453727), ('coplanar', 1.833917), ('collinear', 11.343172), ('orthogonal', 1.497749), ('glissile', 0.867434), ('sessile', 2.774888)): {'strain': array([1, 2, 3]), 'stress': array([4, 5, 6])}, (('tau0', 185370685), ('a', 4.030016), ('h0', 1920209605), ('tausat', 664667834), ('self', 1.453727), ('coplanar', 1.833917), ('collinear', 11.343172), ('orthogonal', 1.497749), ('glissile', 0.867434), ('sessile', 2.774888)): {'strain': array([1, 2, 3]), 'stress': array([4, 5, 6])}}\n"
     ]
    }
   ],
   "source": [
    "# Your original dictionary\n",
    "d = {(('tau0', 184.370685), ('a', 4.030016), ('h0', 1919.209605), ('tausat', 664.667834), ('self', 1.453727), ('coplanar', 1.833917), ('collinear', 11.343172), ('orthogonal', 1.497749), ('glissile', 0.867434), ('sessile', 2.774888)): {'strain': np.array([1, 2, 3]), 'stress': np.array([4, 5, 6])},\n",
    "     (('tau0', 185.370685), ('a', 4.030016), ('h0', 1920.209605), ('tausat', 664.667834), ('self', 1.453727), ('coplanar', 1.833917), ('collinear', 11.343172), ('orthogonal', 1.497749), ('glissile', 0.867434), ('sessile', 2.774888)): {'strain': np.array([1, 2, 3]), 'stress': np.array([4, 5, 6])}\n",
    "    }\n",
    "\n",
    "# create new dictionary\n",
    "new_d = {}\n",
    "for key, value in d.items():\n",
    "    new_key = []\n",
    "    for tup in key:\n",
    "        if tup[0] in ('tau0', 'h0', 'tausat'):\n",
    "            new_tup = (tup[0], int(tup[1]*1e6))\n",
    "        else:\n",
    "            new_tup = tup\n",
    "        new_key.append(new_tup)\n",
    "    new_d[tuple(new_key)] = value\n",
    "\n",
    "print(new_d)"
   ]
  },
  {
   "cell_type": "code",
   "execution_count": 24,
   "metadata": {},
   "outputs": [],
   "source": [
    "import copy \n",
    "\n",
    "for loading in loadings:\n",
    "    initial_processCurves = np.load(f'results/{material}/{CPLaw}/universal/{loading}/initial_processCurves.npy', allow_pickle=True).tolist()\n",
    "    initial_trueCurves = np.load(f'results/{material}/{CPLaw}/universal/{loading}/initial_trueCurves.npy', allow_pickle=True).tolist()\n",
    "\n",
    "    rearrange_trueCurves = {}\n",
    "    rearrange_processCurves = {}\n",
    "\n",
    "    # create a new dictionary with stress multiplied by 1e6\n",
    "\n",
    "    for key, value in initial_processCurves.items():\n",
    "        new_value = copy.deepcopy(value)\n",
    "        new_value['stress'] = value['stress'] * 1e6\n",
    "        rearrange_processCurves[key] = new_value\n",
    "\n",
    "    for key, value in initial_trueCurves.items():\n",
    "        new_value = copy.deepcopy(value)\n",
    "        new_value['stress'] = value['stress'] * 1e6\n",
    "        rearrange_trueCurves[key] = new_value\n",
    "\n",
    "    # create new dictionary\n",
    "    # rearrange_trueCurves = {}\n",
    "    # rearrange_processCurves = {}\n",
    "    \n",
    "    # for key, value in initial_processCurves.items():\n",
    "    #     new_key = []\n",
    "    #     for tup in key:\n",
    "    #         if tup[0] in ('tau0', 'h0', 'tausat'):\n",
    "    #             new_tup = (tup[0], int(tup[1]*1e6))\n",
    "    #         else:\n",
    "    #             new_tup = tup\n",
    "    #         new_key.append(new_tup)\n",
    "    #     rearrange_processCurves[tuple(new_key)] = value\n",
    "\n",
    "    # for key, value in initial_trueCurves.items():\n",
    "    #     new_key = []\n",
    "    #     for tup in key:\n",
    "    #         if tup[0] in ('tau0', 'h0', 'tausat'):\n",
    "    #             new_tup = (tup[0], int(tup[1]*1e6))\n",
    "    #         else:\n",
    "    #             new_tup = tup\n",
    "    #         new_key.append(new_tup)\n",
    "    #     rearrange_trueCurves[tuple(new_key)] = value\n",
    "\n",
    "    #print(rearrange_trueCurves)\n",
    "    # Create a new dictionary with modified keys\n",
    "    #print(initial_processCurves)\n",
    "    #initial_trueCurves = np.load(f'results/{material}/{CPLaw}/universal/{loading}/initial_trueCurves.npy', allow_pickle=True).tolist()\n",
    "    #print(list(initial_trueCurves.items())[0])\n",
    "    #print(list(rearrange_processCurves.items())[0])\n",
    "    #rearrange_processCurves\n",
    "    #rearrange_processCurves = {(k[2:3] + k[:2] + k[3:]): v for k, v in initial_processCurves.items()}\n",
    "    #rearrange_trueCurves = {(k[2:3] + k[:2] + k[3:]): v for k, v in initial_trueCurves.items()}\n",
    "    np.save(f'results/{material}/{CPLaw}/universal/{loading}/initial_trueCurves.npy', rearrange_trueCurves)\n",
    "    np.save(f'results/{material}/{CPLaw}/universal/{loading}/initial_processCurves.npy', rearrange_processCurves)"
   ]
  },
  {
   "cell_type": "code",
   "execution_count": 19,
   "metadata": {},
   "outputs": [
    {
     "name": "stdout",
     "output_type": "stream",
     "text": [
      "(('tau0', 184.370685), ('a', 4.030016), ('h0', 1919.209605), ('tausat', 664.667834), ('self', 1.453727), ('coplanar', 1.833917), ('collinear', 11.343172), ('orthogonal', 1.497749), ('glissile', 0.867434), ('sessile', 2.774888))\n"
     ]
    }
   ],
   "source": [
    "my_tuple = (('a', 4.030016), ('h0', 1919.209605), ('tau0', 184.370685), ('tausat', 664.667834), ('self', 1.453727), ('coplanar', 1.833917), ('collinear', 11.343172), ('orthogonal', 1.497749), ('glissile', 0.867434), ('sessile', 2.774888))\n",
    "\n",
    "new_tuple = (my_tuple[2],) + my_tuple[:2] + my_tuple[3:]\n",
    "\n",
    "print(new_tuple)"
   ]
  }
 ],
 "metadata": {
  "kernelspec": {
   "display_name": "Python 3",
   "language": "python",
   "name": "python3"
  },
  "language_info": {
   "codemirror_mode": {
    "name": "ipython",
    "version": 3
   },
   "file_extension": ".py",
   "mimetype": "text/x-python",
   "name": "python",
   "nbconvert_exporter": "python",
   "pygments_lexer": "ipython3",
   "version": "3.10.5"
  },
  "orig_nbformat": 4,
  "vscode": {
   "interpreter": {
    "hash": "3bc1a11519d29b3ed6f08646f3ece60640217e649724c6bcfd38e1173c1a1bce"
   }
  }
 },
 "nbformat": 4,
 "nbformat_minor": 2
}
