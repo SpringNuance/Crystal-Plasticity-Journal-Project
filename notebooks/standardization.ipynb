{
 "cells": [
  {
   "cell_type": "code",
   "execution_count": 1,
   "metadata": {},
   "outputs": [],
   "source": [
    "from sklearn.preprocessing import StandardScaler\n",
    "import numpy as np\n",
    "\n",
    "# create a StandardScaler object for the output layer\n",
    "output_scaler = StandardScaler()\n",
    "\n",
    "# fit the output_scaler to the training output data\n",
    "train_output_data = np.random.normal(size=(100, 6))\n",
    "output_scaler.fit(train_output_data)\n",
    "\n",
    "# generate some test input data\n",
    "test_input_data = np.random.normal(size=(10, 21))\n",
    "\n",
    "# use the neural network to predict the standardized output\n",
    "test_std_output = np.random.normal(size=(10, 6))\n",
    "test_output = output_scaler.inverse_transform(test_std_output)\n",
    "\n",
    "# test_output contains the predicted output in its original (non-standardized) form"
   ]
  },
  {
   "cell_type": "code",
   "execution_count": 2,
   "metadata": {},
   "outputs": [
    {
     "name": "stdout",
     "output_type": "stream",
     "text": [
      "[0.         2.30258509 4.60517019 6.90775528]\n"
     ]
    }
   ],
   "source": [
    "import numpy as np\n",
    "\n",
    "# Define the original X values\n",
    "X = np.array([1, 10, 100, 1000])\n",
    "\n",
    "# Apply a log transformation to X\n",
    "X_log = np.log(X)\n",
    "\n",
    "# Define the corresponding label values\n",
    "y = np.array([1, 2, 3, 4])\n",
    "\n",
    "print(X_log)"
   ]
  },
  {
   "cell_type": "code",
   "execution_count": null,
   "metadata": {},
   "outputs": [],
   "source": []
  },
  {
   "cell_type": "code",
   "execution_count": 58,
   "metadata": {},
   "outputs": [
    {
     "name": "stdout",
     "output_type": "stream",
     "text": [
      "[[ 1000.  2000.  3000.  4000.]\n",
      " [ 5000.  6000.  7000.  8000.]\n",
      " [ 9000. 10000. 11000. 12000.]]\n",
      "[[0.         0.         0.         0.        ]\n",
      " [0.5        0.68260619 0.65212727 0.63092975]\n",
      " [1.         1.         1.         1.        ]]\n",
      "[[ 1000.  2000.  3000.  4000.]\n",
      " [ 5000.  6000.  7000.  8000.]\n",
      " [ 9000. 10000. 11000. 12000.]]\n"
     ]
    }
   ],
   "source": [
    "from sklearn.pipeline import Pipeline\n",
    "from sklearn.preprocessing import FunctionTransformer, StandardScaler, MinMaxScaler\n",
    "from numpy import log, exp\n",
    "\n",
    "X = np.array([[1,2,3,4], [5,6,7,8], [9,10,11,12]]).astype(float) * 1000\n",
    "P = np.array([0, 1, 1, 1])\n",
    "bases = np.array([0, 2, np.e, 10])\n",
    "\n",
    "def log_transform(X, P, bases):\n",
    "    X_new = X.copy()\n",
    "    for (index, check) in enumerate(P):\n",
    "        if (check == 1):\n",
    "            X_new[:, index] = np.emath.logn(bases[index], X[:, index])\n",
    "    return X_new\n",
    "\n",
    "def exp_transform(X, P, bases):\n",
    "    X_new = X.copy()\n",
    "    for (index, check) in enumerate(P):\n",
    "        if (check == 1):\n",
    "            X_new[:, index] = np.exp(X[:, index] * np.log(bases[index]))\n",
    "    return X_new\n",
    "\n",
    "\n",
    "log_transformer = FunctionTransformer(func=log_transform,inverse_func=exp_transform, kw_args={'P': P, 'bases': bases}, inv_kw_args={'P': P, 'bases': bases})\n",
    "\n",
    "# define the pipeline with steps for log transformation, standardization, and min-max scaling\n",
    "pipeline = Pipeline([\n",
    "    ('log', log_transformer),\n",
    "    ('standardize', StandardScaler()),\n",
    "    ('min_max_scale', MinMaxScaler(feature_range=(0, 1))),\n",
    "])\n",
    "\n",
    "pipeline.fit(X)\n",
    "\n",
    "print(X)\n",
    "# apply the pipeline to a feature matrix X\n",
    "X_transformed = pipeline.transform(X)\n",
    "\n",
    "print(X_transformed)\n",
    "\n",
    "# apply the reverse pipeline to the transformed feature matrix X_transformed\n",
    "X_original = pipeline.inverse_transform(X_transformed)\n",
    "\n",
    "print(X_original)"
   ]
  },
  {
   "cell_type": "code",
   "execution_count": 16,
   "metadata": {},
   "outputs": [
    {
     "name": "stdout",
     "output_type": "stream",
     "text": [
      "[[1.00e+00 1.01e+00 1.00e+02 1.00e+00 1.00e-03 1.00e-03 1.00e-02 1.00e-03\n",
      "  1.00e-03 1.00e-03]\n",
      " [2.00e+02 1.00e+01 2.00e+03 1.00e+03 2.00e+00 2.00e+00 2.50e+01 2.00e+00\n",
      "  3.00e+00 3.00e+00]]\n",
      "[[0. 0. 0. 0. 0. 0. 0. 0. 0. 0.]\n",
      " [1. 1. 1. 1. 1. 1. 1. 1. 1. 1.]]\n",
      "[[1.00e+00 1.01e+00 1.00e+02 1.00e+00 1.00e-03 1.00e-03 1.00e-02 1.00e-03\n",
      "  1.00e-03 1.00e-03]\n",
      " [2.00e+02 1.00e+01 2.00e+03 1.00e+03 2.00e+00 2.00e+00 2.50e+01 2.00e+00\n",
      "  3.00e+00 3.00e+00]]\n"
     ]
    }
   ],
   "source": [
    "from sklearn.pipeline import Pipeline\n",
    "from sklearn.preprocessing import FunctionTransformer, StandardScaler, MinMaxScaler\n",
    "from numpy import log, exp\n",
    "\n",
    "# X = np.array([[1.00e+00, 2.00e+02],\n",
    "#             [1.01e+00, 1.00e+01],\n",
    "#             [1.00e+02, 2.00e+03],\n",
    "#             [1.00e+00, 1.00e+03],\n",
    "#             [1.00e-03, 2.00e+00],\n",
    "#             [1.00e-03, 2.00e+00],\n",
    "#             [1.00e-02, 2.50e+01],\n",
    "#             [1.00e-03, 2.00e+00],\n",
    "#             [1.00e-03, 3.00e+00],\n",
    "#             [1.00e-03, 3.00e+00]])\n",
    "\n",
    "X = np.array([[1.00e+00, 1.01e+00, 1.00e+02, 1.00e+00, 1.00e-03, 1.00e-03, 1.00e-02, 1.00e-03, 1.00e-03, 1.00e-03],\n",
    "              [2.00e+02, 1.00e+01, 2.00e+03, 1.00e+03, 2.00e+00, 2.00e+00, 2.50e+01, 2.00e+00, 3.00e+00, 3.00e+00]])\n",
    "\n",
    "X_one_dimension = np.array([1.00e+00, 1.01e+00, 1.00e+02, 1.00e+00, 1.00e-03, 1.00e-03, 1.00e-02, 1.00e-03, 1.00e-03, 1.00e-03])\n",
    "\n",
    "powerTest = np.array([1, 1.3, 1.3, 1.3, 1, 1.3, 1.3, 1.3, 1.3, 1.3])\n",
    "\n",
    "def root_transform(X, power):\n",
    "    if len(X.shape) == 1:\n",
    "        # X is a 1D array\n",
    "        return X ** (1/power)\n",
    "    else:\n",
    "        # X is a 2D array\n",
    "        \n",
    "        return np.power(X, (1/power).reshape(1, -1))\n",
    "\n",
    "def power_transform(X, power):\n",
    "    if len(X.shape) == 1:\n",
    "        # X is a 1D array\n",
    "        return X ** power\n",
    "    else:\n",
    "        # X is a 2D array\n",
    "        return np.power(X, power.reshape(1, -1))\n",
    "\n",
    "# X_root = root_transform(X, powerTest)\n",
    "# print(X_root)\n",
    "# X_pow = power_transform(X_root, powerTest)\n",
    "# print(X_pow)\n",
    "\n",
    "# X_root = root_transform(X_one_dimension, powerTest)\n",
    "# print(X_root)\n",
    "# X_pow = power_transform(X_root, powerTest)\n",
    "# print(X_pow)\n",
    "\n",
    "poly_transformer = FunctionTransformer(func=root_transform,inverse_func=power_transform, kw_args={'power': powerTest}, inv_kw_args={'power': powerTest})\n",
    "\n",
    "# define the pipeline with steps for log transformation, standardization, and min-max scaling\n",
    "pipeline = Pipeline([\n",
    "    ('poly_transformer', poly_transformer),\n",
    "    ('min_max_scale', MinMaxScaler(feature_range=(0, 1))),\n",
    "])\n",
    "\n",
    "pipeline.fit(X)\n",
    "\n",
    "print(X)\n",
    "# apply the pipeline to a feature matrix X\n",
    "X_transformed = pipeline.transform(X)\n",
    "\n",
    "print(X_transformed)\n",
    "\n",
    "# apply the reverse pipeline to the transformed feature matrix X_transformed\n",
    "X_original = pipeline.inverse_transform(X_transformed)\n",
    "\n",
    "print(X_original)"
   ]
  },
  {
   "cell_type": "code",
   "execution_count": 3,
   "metadata": {},
   "outputs": [
    {
     "name": "stdout",
     "output_type": "stream",
     "text": [
      "1.5384615384615383\n",
      "2.0\n"
     ]
    }
   ],
   "source": [
    "print(2 ** 1/1.3)\n",
    "print(1.5384615384615383 ** 1/(1/1.3))"
   ]
  }
 ],
 "metadata": {
  "kernelspec": {
   "display_name": "Python 3",
   "language": "python",
   "name": "python3"
  },
  "language_info": {
   "codemirror_mode": {
    "name": "ipython",
    "version": 3
   },
   "file_extension": ".py",
   "mimetype": "text/x-python",
   "name": "python",
   "nbconvert_exporter": "python",
   "pygments_lexer": "ipython3",
   "version": "3.10.5"
  },
  "orig_nbformat": 4,
  "vscode": {
   "interpreter": {
    "hash": "3bc1a11519d29b3ed6f08646f3ece60640217e649724c6bcfd38e1173c1a1bce"
   }
  }
 },
 "nbformat": 4,
 "nbformat_minor": 2
}
