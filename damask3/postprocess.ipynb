{
 "cells": [
  {
   "cell_type": "code",
   "execution_count": 1,
   "metadata": {},
   "outputs": [
    {
     "name": "stdout",
     "output_type": "stream",
     "text": [
      "The current directory is: \n",
      "c:\\Users\\nguye\\Desktop\\Crystal-Plasticity-COE-Journal\\damask3\n",
      "Moving up to the parent directory\n",
      "c:\\Users\\nguye\\Desktop\\Crystal-Plasticity-COE-Journal\n"
     ]
    }
   ],
   "source": [
    "import numpy as np\n",
    "import damask\n",
    "\n",
    "import os\n",
    "from math import * \n",
    "os.getcwd()\n",
    "print(\"The current directory is: \")\n",
    "print(os.getcwd())\n",
    "path_parent = os.path.dirname(os.getcwd())\n",
    "os.chdir(path_parent)\n",
    "print(\"Moving up to the parent directory\")\n",
    "print(os.getcwd())\n",
    "damask3_template_path = \"damask3/damask3_template\""
   ]
  },
  {
   "cell_type": "code",
   "execution_count": 22,
   "metadata": {},
   "outputs": [
    {
     "name": "stderr",
     "output_type": "stream",
     "text": [
      " ██████████████████████████████████████████████████ 100% ETA 0:00:00\n",
      " ██████████████████████████████████████████████████ 100% ETA 0:00:00\n",
      " ██████████████████████████████████████████████████ 100% ETA 0:00:00\n",
      " ██████████████████████████████████████████████████ 100% ETA 0:00:00\n",
      " ██████████████████████████████████████████████████ 100% ETA 0:00:00\n",
      " ██████████████████████████████████████████████████ 100% ETA 0:00:00\n",
      " ██████████████████████████████████████████████████ 100% ETA 0:00:00\n"
     ]
    }
   ],
   "source": [
    "import damask\n",
    "result = damask.Result('damask3/RVE_1_40_D_tensionX.hdf5')\n",
    "\n",
    "# https://damask.mpie.de/documentation/examples/add_field_data.html\n",
    "# add deformation gradient rate F and Piola–Kirchhoff stress P\n",
    "\n",
    "result.add_stress_Cauchy(P='P',F='F')\n",
    "result.add_strain(F='F',t='V')\n",
    "result.add_strain(\"F_p\")\n",
    "# Add the Mises equivalent of the Cauchy stress 'sigma'\n",
    "# Add the Mises equivalent of the spatial logarithmic strain 'epsilon_V^0.0(F)'\n",
    "result.add_equivalent_Mises('epsilon_V^0.0(F)')\n",
    "result.add_equivalent_Mises('sigma')\n",
    "\n",
    "\n",
    "\n",
    "result.add_calculation('np.sum(#rho_mob#,axis=1)','rho_mob_total',\n",
    "                    '1/m²','total mobile dislocation density')\n",
    "result.add_calculation('np.sum(#rho_dip#,axis=1)','rho_dip_total',\n",
    "                    '1/m²','total dislocation dipole density')\n",
    "# result.add_calculation('#rho_dip_total#+#rho_mob_total','rho_total',\n",
    "#                     '1/m²','total dislocation density')\n",
    "\n",
    "# r.export_VTK()\n",
    "r_last = result.view(increments=-1)\n"
   ]
  },
  {
   "cell_type": "code",
   "execution_count": 47,
   "metadata": {},
   "outputs": [
    {
     "name": "stderr",
     "output_type": "stream",
     "text": [
      " ██████████████████████████████████████████████████ 100% ETA 0:00:00\n"
     ]
    },
    {
     "data": {
      "text/plain": [
       "\u001b[2mCreated by /projappl/project_2004956/damask3/grid_solver/bin/DAMASK_grid v3.0.0-alpha6\n",
       "        on 2023-02-13 22:23:05+0200\n",
       " executing \"/projappl/project_2004956/damask3/grid_solver/bin/DAMASK_grid --load tensionX.yaml --geom RVE_1_40_D.vti\"\u001b[0m\n",
       "\n",
       "increment_0 (0.0 s)\n",
       "  phase\n",
       "    Aluminum\n",
       "      mechanical\n",
       "        F / 1: deformation gradient\n",
       "        F_e / 1: elastic deformation gradient\n",
       "        F_p / 1: plastic deformation gradient\n",
       "        L_p / 1/s: plastic velocity gradient\n",
       "        O / q_0 (q_1 q_2 q_3): crystal orientation as quaternion\n",
       "        P / Pa: first Piola-Kirchhoff stress\n",
       "        epsilon_V^0.0(F) / 1: strain tensor of F (deformation gradient)\n",
       "        epsilon_V^0.0(F)_vM / 1: Mises equivalent strain of epsilon_V^0.0(F) (strain tensor of F (deformation gradient))\n",
       "        epsilon_V^0.0(F_p) / 1: strain tensor of F_p (plastic deformation gradient)\n",
       "        rho_dip / 1/m²: dislocation dipole density\n",
       "        rho_dip_total / 1/m²: total dislocation dipole density (formula: np.sum(#rho_dip#,axis=1))\n",
       "        rho_mob / 1/m²: mobile dislocation density\n",
       "        rho_mob_total / 1/m²: total mobile dislocation density (formula: np.sum(#rho_mob#,axis=1))\n",
       "        sigma / Pa: Cauchy stress calculated from P (first Piola-Kirchhoff stress) and F (deformation gradient)\n",
       "        sigma_vM / Pa: Mises equivalent stress of sigma (Cauchy stress calculated from P (first Piola-Kirchhoff stress) and F (deformation gradient))\n",
       "  homogenization\n",
       "    SX\n",
       "      mechanical\n",
       "\n",
       "increment_2\n",
       "  ...\n",
       "\n",
       "increment_4\n",
       "  ...\n",
       "\n",
       "increment_6\n",
       "  ...\n",
       "\n",
       "increment_8\n",
       "  ...\n",
       "\n",
       "increment_10\n",
       "  ...\n",
       "\n",
       "increment_12\n",
       "  ...\n",
       "\n",
       "increment_14\n",
       "  ...\n",
       "\n",
       "increment_16\n",
       "  ...\n",
       "\n",
       "increment_18\n",
       "  ...\n",
       "\n",
       "increment_20\n",
       "  ...\n",
       "\n",
       "increment_24\n",
       "  ...\n",
       "\n",
       "increment_28\n",
       "  ...\n",
       "\n",
       "increment_32\n",
       "  ...\n",
       "\n",
       "increment_36\n",
       "  ...\n",
       "\n",
       "increment_40\n",
       "  ...\n",
       "\n",
       "increment_44\n",
       "  ...\n",
       "\n",
       "increment_48\n",
       "  ...\n",
       "\n",
       "increment_52\n",
       "  ...\n",
       "\n",
       "increment_56\n",
       "  ...\n",
       "\n",
       "increment_60\n",
       "  ...\n",
       "\n",
       "increment_64\n",
       "  ...\n",
       "\n",
       "increment_68\n",
       "  ...\n",
       "\n",
       "increment_72\n",
       "  ...\n",
       "\n",
       "increment_76\n",
       "  ...\n",
       "\n",
       "increment_80\n",
       "  ...\n",
       "\n",
       "increment_84\n",
       "  ...\n",
       "\n",
       "increment_88\n",
       "  ...\n",
       "\n",
       "increment_92\n",
       "  ...\n",
       "\n",
       "increment_96\n",
       "  ...\n",
       "\n",
       "increment_100\n",
       "  ...\n",
       "\n",
       "increment_104\n",
       "  ...\n",
       "\n",
       "increment_108\n",
       "  ...\n",
       "\n",
       "increment_112\n",
       "  ...\n",
       "\n",
       "increment_116\n",
       "  ...\n",
       "\n",
       "increment_120\n",
       "  ...\n",
       "\n",
       "increment_124\n",
       "  ...\n",
       "\n",
       "increment_128\n",
       "  ...\n",
       "\n",
       "increment_132\n",
       "  ...\n",
       "\n",
       "increment_136\n",
       "  ...\n",
       "\n",
       "increment_140 (2020.0 s)\n",
       "  phase\n",
       "    Aluminum\n",
       "      mechanical\n",
       "        F / 1: deformation gradient\n",
       "        F_e / 1: elastic deformation gradient\n",
       "        F_p / 1: plastic deformation gradient\n",
       "        L_p / 1/s: plastic velocity gradient\n",
       "        O / q_0 (q_1 q_2 q_3): crystal orientation as quaternion\n",
       "        P / Pa: first Piola-Kirchhoff stress\n",
       "        epsilon_V^0.0(F) / 1: strain tensor of F (deformation gradient)\n",
       "        epsilon_V^0.0(F)_vM / 1: Mises equivalent strain of epsilon_V^0.0(F) (strain tensor of F (deformation gradient))\n",
       "        epsilon_V^0.0(F_p) / 1: strain tensor of F_p (plastic deformation gradient)\n",
       "        rho_dip / 1/m²: dislocation dipole density\n",
       "        rho_dip_total / 1/m²: total dislocation dipole density (formula: np.sum(#rho_dip#,axis=1))\n",
       "        rho_mob / 1/m²: mobile dislocation density\n",
       "        rho_mob_total / 1/m²: total mobile dislocation density (formula: np.sum(#rho_mob#,axis=1))\n",
       "        sigma / Pa: Cauchy stress calculated from P (first Piola-Kirchhoff stress) and F (deformation gradient)\n",
       "        sigma_vM / Pa: Mises equivalent stress of sigma (Cauchy stress calculated from P (first Piola-Kirchhoff stress) and F (deformation gradient))\n",
       "  homogenization\n",
       "    SX\n",
       "      mechanical"
      ]
     },
     "execution_count": 47,
     "metadata": {},
     "output_type": "execute_result"
    }
   ],
   "source": [
    "# allData: dict {increments (keys) -> {phase, geometry}\n",
    "# phase -> F, O, P, sigma\n",
    "# geometry -> u_n, u_p\n",
    "# allData= result.get()\n",
    "# print(allData[\"increment_0\"].keys())\n",
    "# print(len(allData[\"increment_0\"]['phase']['F']))\n",
    "# 64000 = 40^3\n",
    "result.get(\"sigma\")[\"increment_140\"]\n",
    "\n",
    "#result.add_strain(t=\"V\")\n",
    "\n",
    "result"
   ]
  },
  {
   "cell_type": "code",
   "execution_count": 23,
   "metadata": {},
   "outputs": [
    {
     "name": "stderr",
     "output_type": "stream",
     "text": [
      " ██████████████████████████████████████████████████ 100% ETA 0:00:00\n",
      " ██████████████████████████████████████████████████ 100% ETA 0:00:00\n"
     ]
    },
    {
     "data": {
      "text/plain": [
       "[<matplotlib.lines.Line2D at 0x225826e7580>]"
      ]
     },
     "execution_count": 23,
     "metadata": {},
     "output_type": "execute_result"
    },
    {
     "data": {
      "image/png": "[encoded data removed]",
      "text/plain": [
       "<Figure size 432x288 with 1 Axes>"
      ]
     },
     "metadata": {
      "needs_background": "light"
     },
     "output_type": "display_data"
    }
   ],
   "source": [
    "import numpy as np\n",
    "import pandas as pd\n",
    "import matplotlib.pyplot as plt\n",
    "\n",
    "#result.view(increments=0)#.get()\n",
    "#print(result)\n",
    "sigma = [np.average(s) for s in result.get('sigma_vM').values()]\n",
    "## epsilon = [np.average(e) for e in result.get('epsilon_V^-1(F_p)').values()]\n",
    "epsilon = [np.average(e) for e in result.get('epsilon_V^0.0(F)_vM').values()]\n",
    "#print(epsilon)\n",
    "plt.plot(epsilon, sigma)\n"
   ]
  },
  {
   "cell_type": "code",
   "execution_count": 46,
   "metadata": {},
   "outputs": [
    {
     "name": "stderr",
     "output_type": "stream",
     "text": [
      " ██████████████████████████████████████████████████ 100% ETA 0:00:00\n"
     ]
    },
    {
     "name": "stdout",
     "output_type": "stream",
     "text": [
      "64000\n",
      "[[[-1.03057946e-16 -1.37218357e-17 -1.37982185e-17]\n",
      "  [-1.37218357e-17  2.42577184e-17 -8.72475607e-17]\n",
      "  [-1.37982185e-17 -8.72475607e-17  2.32890767e-17]]\n",
      "\n",
      " [[-1.03057946e-16 -1.37218357e-17 -1.37982185e-17]\n",
      "  [-1.37218357e-17  2.42577184e-17 -8.72475607e-17]\n",
      "  [-1.37982185e-17 -8.72475607e-17  2.32890767e-17]]\n",
      "\n",
      " [[-2.22044605e-16  0.00000000e+00  0.00000000e+00]\n",
      "  [ 0.00000000e+00 -2.37851005e-16  5.32132093e-17]\n",
      "  [ 0.00000000e+00  5.32132093e-17 -2.06238205e-16]]\n",
      "\n",
      " ...\n",
      "\n",
      " [[ 1.11022302e-16  0.00000000e+00  0.00000000e+00]\n",
      "  [ 0.00000000e+00 -2.58038033e-16  2.19107918e-16]\n",
      "  [ 0.00000000e+00  2.19107918e-16 -1.86051177e-16]]\n",
      "\n",
      " [[ 0.00000000e+00  0.00000000e+00  0.00000000e+00]\n",
      "  [ 0.00000000e+00 -3.82980573e-16 -3.48074664e-17]\n",
      "  [ 0.00000000e+00 -3.48074664e-17 -1.72130940e-16]]\n",
      "\n",
      " [[ 0.00000000e+00  0.00000000e+00  0.00000000e+00]\n",
      "  [ 0.00000000e+00 -3.82980573e-16 -3.48074664e-17]\n",
      "  [ 0.00000000e+00 -3.48074664e-17 -1.72130940e-16]]]\n"
     ]
    }
   ],
   "source": [
    "#print(allData.keys())\n",
    "\n",
    "\n",
    "sigma = list(result.get('epsilon_V^0.0(F_p)').values())[0]\n",
    "print(len(sigma))\n",
    "print(sigma)"
   ]
  },
  {
   "cell_type": "code",
   "execution_count": 44,
   "metadata": {},
   "outputs": [
    {
     "name": "stderr",
     "output_type": "stream",
     "text": [
      " ██████████████████████████████████████████████████ 100% ETA 0:00:00\n",
      " ██████████████████████████████████████████████████ 100% ETA 0:00:00\n",
      " ██████████████████████████████████████████████████ 100% ETA 0:00:00\n",
      " ██████████████████████████████████████████████████ 100% ETA 0:00:00\n",
      " ██████████████████████████████████████████████████ 100% ETA 0:00:00\n"
     ]
    },
    {
     "name": "stdout",
     "output_type": "stream",
     "text": [
      "[1.20000000e+13 1.20000000e+13 1.20000010e+13 1.20015514e+13\n",
      " 1.20747302e+13 1.23224585e+13 1.26547350e+13 1.30191423e+13\n",
      " 1.34024220e+13 1.38003858e+13 1.42100383e+13 1.70126214e+13\n",
      " 1.98879248e+13 2.27748189e+13 2.56548632e+13 2.85198923e+13\n",
      " 3.69191617e+13 4.50976527e+13 5.30374261e+13 6.07355836e+13\n",
      " 6.81964202e+13 7.54282562e+13 8.24414963e+13 8.92472042e+13\n",
      " 9.58561019e+13 1.02278899e+14 1.08526273e+14 1.14608375e+14\n",
      " 1.20534454e+14 1.26312891e+14 1.31950543e+14 1.37455471e+14\n",
      " 1.42834972e+14 1.48095408e+14 1.53242387e+14 1.58281330e+14\n",
      " 1.62114274e+14 1.65887910e+14 1.69604432e+14 1.73265798e+14\n",
      " 1.76873713e+14]\n"
     ]
    },
    {
     "data": {
      "text/plain": [
       "<matplotlib.legend.Legend at 0x225c7a09c60>"
      ]
     },
     "execution_count": 44,
     "metadata": {},
     "output_type": "execute_result"
    },
    {
     "data": {
      "image/png": "[encoded data removed]",
      "text/plain": [
       "<Figure size 640x480 with 1 Axes>"
      ]
     },
     "metadata": {
      "needs_background": "light"
     },
     "output_type": "display_data"
    }
   ],
   "source": [
    "mobile = result.get('rho_mob_total')\n",
    "dipole = result.get('rho_dip_total')\n",
    "# print(mobile)\n",
    "\n",
    "from matplotlib.pyplot import figure\n",
    "#result.view(increments=0)#.get()\n",
    "#print(result)\n",
    "mobile = np.array([np.average(s) for s in result.get('rho_mob_total').values()])\n",
    "dipole = np.array([np.average(s) for s in result.get('rho_dip_total').values()])\n",
    "total = mobile + dipole\n",
    "## epsilon = [np.average(e) for e in result.get('epsilon_V^-1(F_p)').values()]\n",
    "epsilon = [np.average(e) for e in result.get('epsilon_V^0.0(F)_vM').values()]\n",
    "#print(epsilon)\n",
    "\n",
    "size=15\n",
    "figure(figsize=(8, 6), dpi=80)\n",
    "plt.plot(epsilon, mobile, label=\"Total mobile dislocation densities\")\n",
    "plt.plot(epsilon, dipole, label=\"Total dipole dislocation densities\")\n",
    "plt.plot(epsilon, total, label=\"Total dislocation densities\")\n",
    "\n",
    "print(total)\n",
    "plt.title(f\"Dislocation densities\", size=size + 4)\n",
    "plt.rc('xtick', labelsize=size)    \n",
    "plt.rc('ytick', labelsize=size)  \n",
    "plt.xticks(fontsize=size)\n",
    "plt.yticks(fontsize=size)\n",
    "plt.xticks([0, 0.05, 0.1, 0.15, 0.2, 0.25])\n",
    "plt.ylabel('1/m³', size=size)\n",
    "plt.xlabel(\"Strain, -\", size=size)\n",
    "plt.legend(loc=4, fontsize=size - 2)"
   ]
  }
 ],
 "metadata": {
  "kernelspec": {
   "display_name": "Python 3.10.5 64-bit",
   "language": "python",
   "name": "python3"
  },
  "language_info": {
   "codemirror_mode": {
    "name": "ipython",
    "version": 3
   },
   "file_extension": ".py",
   "mimetype": "text/x-python",
   "name": "python",
   "nbconvert_exporter": "python",
   "pygments_lexer": "ipython3",
   "version": "3.10.5"
  },
  "orig_nbformat": 4,
  "vscode": {
   "interpreter": {
    "hash": "3bc1a11519d29b3ed6f08646f3ece60640217e649724c6bcfd38e1173c1a1bce"
   }
  }
 },
 "nbformat": 4,
 "nbformat_minor": 2
}
