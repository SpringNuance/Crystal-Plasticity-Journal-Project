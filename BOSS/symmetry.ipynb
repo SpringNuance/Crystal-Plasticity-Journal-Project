{
 "cells": [
  {
   "cell_type": "markdown",
   "id": "cba096b9",
   "metadata": {},
   "source": [
    "# User function symmetry"
   ]
  },
  {
   "cell_type": "markdown",
   "id": "ad1a2624",
   "metadata": {},
   "source": [
    "In this tutorial we show how to create BOSS user functions that \n",
    "return extra (x, y) data for function evaluations at custom locations in addition to the usual acquisitions.\n",
    "This can be used, e.g., to exploit symmetries in the user function. "
   ]
  },
  {
   "cell_type": "code",
   "execution_count": null,
   "id": "c8fcbb0c",
   "metadata": {
    "lines_to_next_cell": 1
   },
   "outputs": [],
   "source": [
    "import numpy as np\n",
    "from boss.bo.bo_main import BOMain\n",
    "from boss.pp.pp_main import PPMain"
   ]
  },
  {
   "cell_type": "markdown",
   "id": "33d7e6ef",
   "metadata": {},
   "source": [
    "Consider the toy problem of minimizing the symmetric function f(x) = x<sup>2</sup>cos(2x) on the interval [-3, 3].\n",
    "Since we know that f(x) = f(-x), we can create a BOSS user function that for each acquisition x also evaluates the\n",
    "function at -x for free. \n",
    "To ensure that BOSS knows about your custom evaluations, your function must return both a 2D-array of x-locations\n",
    "and a 1D array with the corresponding y-values."
   ]
  },
  {
   "cell_type": "code",
   "execution_count": null,
   "id": "39a1d76b",
   "metadata": {
    "lines_to_next_cell": 1
   },
   "outputs": [],
   "source": [
    "def func_sym(X):\n",
    "    # recall boss always passes the inputs as a 2d array\n",
    "    x1 = X[0, 0]\n",
    "    x2 = -x1\n",
    "    y1 = x1**2 * np.cos(2*x1)\n",
    "    # We must return the x-locations as rows in a 2D array.\n",
    "    X = np.array([x1, x2])[:, None]\n",
    "    # The corresponding evaluations must must be returned in a 1D array.\n",
    "    y = np.array([y1, y1])\n",
    "    return X, y"
   ]
  },
  {
   "cell_type": "markdown",
   "id": "c21e550c",
   "metadata": {},
   "source": [
    "No special keyword is required to use this feature of BOSS, the \n",
    "extra user function evaluations will be detected automatically.\n",
    "Extra user function evaluations are not taken into account for the purpose of specifying the number of initial points and iterations.\n",
    "Thus, in the present example we specify 3 initial points and 5 iterations and ourfunction adds 1 extra evaluation each call, hence the final model will be based on\n",
    "a total 16 data points."
   ]
  },
  {
   "cell_type": "code",
   "execution_count": null,
   "id": "244c8451",
   "metadata": {},
   "outputs": [],
   "source": [
    "bounds = np.array([[-3., 3.]])\n",
    "bo = BOMain(\n",
    "    func_sym, \n",
    "    bounds,    \n",
    "    yrange=[-5, 5],\n",
    "    kernel='rbf',\n",
    "    initpts=3,\n",
    "    iterpts=5,\n",
    ")\n",
    "res = bo.run()\n",
    "print(f\"pred. x-min: {res.select('x_glmin', -1)}\")\n",
    "print(f\"pred. f-min: {res.select('mu_glmin', -1)}\")\n",
    "pp = PPMain(res, pp_models=True, pp_acq_funcs=True)\n",
    "pp.run()"
   ]
  },
  {
   "cell_type": "markdown",
   "id": "ccdd537d",
   "metadata": {},
   "source": [
    "Note that in this simple example we could have taken the symmetry into account by simply limiting the bounds\n",
    "to [0, 3], yet there are many applications where this is difficult or not desirable, e.g., when we want \n",
    "to preserve the periodicity of the function."
   ]
  }
 ],
 "metadata": {
  "jupytext": {
   "cell_metadata_filter": "-all",
   "main_language": "python",
   "notebook_metadata_filter": "-all"
  }
 },
 "nbformat": 4,
 "nbformat_minor": 5
}
