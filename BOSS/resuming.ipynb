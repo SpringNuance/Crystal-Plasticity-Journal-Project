{
 "cells": [
  {
   "cell_type": "markdown",
   "id": "5e415f5e",
   "metadata": {},
   "source": [
    "# Resuming"
   ]
  },
  {
   "cell_type": "markdown",
   "id": "1198bd88",
   "metadata": {},
   "source": [
    "If we run BOSS and find that the results are not satisfactory, the optimization\n",
    "can easily be resumed as long as the original BOMain object has not gone out of scope.\n",
    "To illustrate this, we consider a 2D function, which has an approximate global minimum\n",
    "y = 1.463 at x = (-4.000, -3.551)."
   ]
  },
  {
   "cell_type": "code",
   "execution_count": null,
   "id": "d997dc3a",
   "metadata": {},
   "outputs": [],
   "source": [
    "from boss.bo.bo_main import BOMain\n",
    "from boss.pp.pp_main import PPMain"
   ]
  },
  {
   "cell_type": "code",
   "execution_count": null,
   "id": "d46827da",
   "metadata": {},
   "outputs": [],
   "source": [
    "def func_2d(X):\n",
    "    x1 = X[0, 0]\n",
    "    x2 = X[0, 1]\n",
    "    y = 0.01 * ((x1 ** 2 + x2 - 11) ** 2 + (x1 + x2 ** 2 - 7) ** 2 + 20 * (x1 + x2))\n",
    "    return y"
   ]
  },
  {
   "cell_type": "code",
   "execution_count": null,
   "id": "5bf55b74",
   "metadata": {},
   "outputs": [],
   "source": [
    "bo = BOMain(\n",
    "    func_2d,\n",
    "    bounds=[[-5.0, 5.0], [-5.0, 5.0]],\n",
    "    yrange=[0.0, 10.0],\n",
    "    initpts=5,\n",
    "    iterpts=10,\n",
    ")\n",
    "res = bo.run()\n",
    "pred_min = res.select('mu_glmin', -1)\n",
    "x_pred_min = res.select('x_glmin', -1)\n",
    "print(\"Predicted global min: {} at x = {}\".format(pred_min, x_pred_min))"
   ]
  },
  {
   "cell_type": "markdown",
   "id": "41f512ce",
   "metadata": {},
   "source": [
    "Here, we only did 10 BO iterations, which is on the low side\n",
    "for a non-trivial 2D problem. We can improve on our result by resuming our optimization\n",
    "and adding, say 20 additional iterations. To do so, we simply invoke the `BOMain.run` method\n",
    "again and specify the new total number of iterations = 10 + 20 = 30:"
   ]
  },
  {
   "cell_type": "code",
   "execution_count": null,
   "id": "bfea5dc2",
   "metadata": {},
   "outputs": [],
   "source": [
    "res = bo.run(iterpts=30)\n",
    "pred_min = res.select('mu_glmin', -1)\n",
    "x_pred_min = res.select('x_glmin', -1)\n",
    "print(\"Predicted global min after resuming: {} at x = {}\".format(pred_min, x_pred_min))\n",
    "pp = PPMain(res, pp_models=True, pp_acq_funcs=True)\n",
    "pp.run()"
   ]
  }
 ],
 "metadata": {
  "jupytext": {
   "cell_metadata_filter": "-all",
   "main_language": "python",
   "notebook_metadata_filter": "-all"
  }
 },
 "nbformat": 4,
 "nbformat_minor": 5
}
